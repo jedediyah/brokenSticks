{
  "cells": [
    {
      "cell_type": "markdown",
      "metadata": {
        "id": "1tHapK6zlupR"
      },
      "source": [
        "Broken stick problem:\n",
        "\n",
        "3d : Break a stick into six pieces. What is the probability that the six pieces can be formed into a tetrahedron?\n",
        "\n",
        "Here is a LaTeX test:\n",
        "$$\\lim_{x \\to \\infty}\\int_{0}^{x}\\frac{\\sin(x)}{x}$$"
      ]
    },
    {
      "cell_type": "code",
      "execution_count": 3,
      "metadata": {
        "id": "s2s1r_mKCetY"
      },
      "outputs": [],
      "source": [
        "import random as r\n",
        "import itertools\n",
        "import math\n",
        "import matplotlib.pyplot as plt \n",
        "import numpy as np\n",
        "from scipy import stats\n",
        "\n",
        "def breakStick(n):\n",
        "  # Break a unit length stick into n pieces. Lengths are determined by the breaks.\n",
        "  # Returns the unsorted lengths\n",
        "  breaks = [0.0] + [r.random() for b in range(n-1)] + [1.0]\n",
        "  breaks.sort()\n",
        "  lengths = [breaks[i+1]-breaks[i] for i in range(n)]\n",
        "  return lengths \n",
        "\n",
        "def isTriangle(lengths):\n",
        "  # Given a list of three lengths, returns true if they can form a triangle.\n",
        "  L = [lengths[0],lengths[1],lengths[2]]\n",
        "  L.sort()\n",
        "  return L[0] + L[1] > L[2]\n",
        "\n",
        "def getFs(lengths):\n",
        "  # Returns f_min and f_max\n",
        "  a,b,c,d,e,f = lengths\n",
        "  t1 = ( pow(e*e+b*b-c*c-d*d,2) )/(4*a*a)\n",
        "  t2 = math.sqrt( d*d - pow((e*e-a*a-d*d)/(-2*a),2) )\n",
        "  t3 = math.sqrt( b*b - pow((c*c-a*a-b*b)/(-2*a),2) )\n",
        "  fmin = math.sqrt( t1+pow(t2-t3,2) )\n",
        "  fmax = math.sqrt( t1+pow(t2+t3,2) )\n",
        "  return fmin,fmax\n",
        "\n",
        "def lengthProbability(a,b):\n",
        "  # Given range of lengths from a to b, returns probability that a random stick \n",
        "  # has a length between a and b.  \n",
        "  return pow(1-a,5) - pow(1-b,5)\n",
        "\n",
        "def isOrderedTetrahedron(lengths):\n",
        "  # Given a particular sequence of lengths [a,b,c,d,e,f], returns true if a \n",
        "  # tetrahedron can be constructed with triangles abc, ade, bdf, and cef\n",
        "  a,b,c,d,e,f = lengths \n",
        "  if isTriangle([a,b,c]) and isTriangle([a,d,e]):\n",
        "      f_min, f_max = getFs([a,b,c,d,e,f]) \n",
        "      if f > f_min and f < f_max:\n",
        "        return True \n",
        "  return False \n",
        "\n",
        "def get30configurations(lengths):\n",
        "  # Returns 30 configurations of lengths that would construct 30 unique \n",
        "  # tetrahedron when passed to isOrderedTetrahedron(configuration) \n",
        "  a,b,c,d,e,f = lengths \n",
        "  return [  [a, b, c, d, e, f],\n",
        "            [a, b, c, d, f, e],\n",
        "            [a, b, c, e, d, f],\n",
        "            [a, b, c, e, f, d],\n",
        "            [a, b, c, f, d, e],\n",
        "            [a, b, c, f, e, d],\n",
        "            [a, b, d, c, e, f],\n",
        "            [a, b, d, c, f, e],\n",
        "            [a, b, d, e, c, f],\n",
        "            [a, b, d, e, f, c],\n",
        "            [a, b, d, f, c, e],\n",
        "            [a, b, d, f, e, c],\n",
        "            [a, b, e, c, d, f],\n",
        "            [a, b, e, c, f, d],\n",
        "            [a, b, e, d, c, f],\n",
        "            [a, b, e, d, f, c],\n",
        "            [a, b, e, f, c, d],\n",
        "            [a, b, e, f, d, c],\n",
        "            [a, b, f, c, d, e],\n",
        "            [a, b, f, c, e, d],\n",
        "            [a, b, f, d, c, e],\n",
        "            [a, b, f, d, e, c],\n",
        "            [a, b, f, e, c, d],\n",
        "            [a, b, f, e, d, c],\n",
        "            [a, c, d, e, f, b],\n",
        "            [a, c, d, f, e, b],\n",
        "            [a, c, e, d, f, b],\n",
        "            [a, c, e, f, d, b],\n",
        "            [a, c, f, d, e, b],\n",
        "            [a, c, f, e, d, b]   ]\n",
        "\n",
        "def get23configurations(lengths):\n",
        "  # Return the 23 \"redundant\" configurations\n",
        "  # [  49,    1, 4940, 4707,    0,    0,    0,    0,  161,  146,    0,\n",
        "  #     0,    0,    0,    0,    0,    0,    0,    0,    0,    0,    0,\n",
        "  #     0,    0, 2228,    0,    0,    0,    0,    0]\n",
        "  a,b,c,d,e,f = lengths \n",
        "  return [  #[a, b, c, d, e, f], \n",
        "            #[a, b, c, d, f, e],\n",
        "            #[a, b, c, e, d, f],\n",
        "            #[a, b, c, e, f, d],\n",
        "            [a, b, c, f, d, e],\n",
        "            [a, b, c, f, e, d],\n",
        "            [a, b, d, c, e, f],\n",
        "            [a, b, d, c, f, e],\n",
        "            #[a, b, d, e, c, f],\n",
        "            #[a, b, d, e, f, c],\n",
        "            [a, b, d, f, c, e],\n",
        "            [a, b, d, f, e, c],\n",
        "            [a, b, e, c, d, f],\n",
        "            [a, b, e, c, f, d],\n",
        "            [a, b, e, d, c, f],\n",
        "            [a, b, e, d, f, c],\n",
        "            [a, b, e, f, c, d],\n",
        "            [a, b, e, f, d, c],\n",
        "            [a, b, f, c, d, e],\n",
        "            [a, b, f, c, e, d],\n",
        "            [a, b, f, d, c, e],\n",
        "            [a, b, f, d, e, c],\n",
        "            [a, b, f, e, c, d],\n",
        "            [a, b, f, e, d, c],\n",
        "            #[a, c, d, e, f, b],\n",
        "            [a, c, d, f, e, b],\n",
        "            [a, c, e, d, f, b],\n",
        "            [a, c, e, f, d, b],\n",
        "            [a, c, f, d, e, b],\n",
        "            [a, c, f, e, d, b]   ]\n",
        "\n",
        "\n",
        "def get7configurations(lengths):    \n",
        "  # Return the 7 primary configurations\n",
        "  # [  49,    1, 4940, 4707,    0,    0,    0,    0,  161,  146,    0,\n",
        "  #     0,    0,    0,    0,    0,    0,    0,    0,    0,    0,    0,\n",
        "  #     0,    0, 2228,    0,    0,    0,    0,    0]\n",
        "  \"\"\"\n",
        "  The 7 primary configurations give faces of triangles\n",
        "    abc-ade-bdf-cef\n",
        "    abc-adf-bde-cef   # Only adf\n",
        "    abc-ade-bef-cdf\n",
        "    abc-aef-bde-cdf\n",
        "    abd-ace-bef-cdf   # Only ace\n",
        "    abd-aef-bec-cdf   # Only bec\n",
        "    acd-aef-bce-bdf   # Only acd and only bce\n",
        "  \"\"\"\n",
        "  a,b,c,d,e,f = lengths \n",
        "  return [  [a, b, c, d, e, f], \n",
        "            [a, b, c, d, f, e],\n",
        "            [a, b, c, e, d, f],\n",
        "            [a, b, c, e, f, d],\n",
        "            #[a, b, c, f, d, e],\n",
        "            #[a, b, c, f, e, d],\n",
        "            #[a, b, d, c, e, f],\n",
        "            #[a, b, d, c, f, e],\n",
        "            [a, b, d, e, c, f],\n",
        "            [a, b, d, e, f, c],\n",
        "            #[a, b, d, f, c, e],\n",
        "            #[a, b, d, f, e, c],\n",
        "            #[a, b, e, c, d, f],\n",
        "            #[a, b, e, c, f, d],\n",
        "            #[a, b, e, d, c, f],\n",
        "            #[a, b, e, d, f, c],\n",
        "            #[a, b, e, f, c, d],\n",
        "            #[a, b, e, f, d, c],\n",
        "            #[a, b, f, c, d, e],\n",
        "            #[a, b, f, c, e, d],\n",
        "            #[a, b, f, d, c, e],\n",
        "            #[a, b, f, d, e, c],\n",
        "            #[a, b, f, e, c, d],\n",
        "            #[a, b, f, e, d, c],\n",
        "            [a, c, d, e, f, b] ]\n",
        "            #[a, c, d, f, e, b],\n",
        "            #[a, c, e, d, f, b],\n",
        "            #[a, c, e, f, d, b],\n",
        "            #[a, c, f, d, e, b],\n",
        "            #[a, c, f, e, d, b]   ] "
      ]
    },
    {
      "cell_type": "code",
      "execution_count": 4,
      "metadata": {
        "id": "5zMItM9LfENl"
      },
      "outputs": [],
      "source": [
        "# Analyze a stick broken into n pieces\n",
        "def analyzePieces(n,iterations=100000):\n",
        "  print( 'Breaking a stick into {:n} pieces...'.format(n) )\n",
        "  N = iterations \n",
        "  all_lengths = []\n",
        "  lengths_unsorted = []\n",
        "  lengths_sorted = [] \n",
        "  for iteration in range(N):\n",
        "    lengths = breakStick(n)\n",
        "\n",
        "    for i in range(len(lengths)):   ### Round for binning\n",
        "      lengths[i] = round(lengths[i],5)\n",
        "\n",
        "    lengths_unsorted.append([l for l in lengths])\n",
        "    lengths = sorted(lengths) \n",
        "    lengths_sorted.append(lengths) \n",
        "    for l in lengths:\n",
        "      all_lengths.append(l) \n",
        "  # Distributions by ordered length \n",
        "  for i in range(n):\n",
        "    print('min: ' + str(min(np.array(lengths_sorted)[:,i])))\n",
        "    print('max: ' + str(max(np.array(lengths_sorted)[:,i])))\n",
        "    print('mode: ' + str(stats.mode( np.array(lengths_sorted)[:,i] )))\n",
        "    plt.figure(figsize=(16, 3))\n",
        "    plt.hist( np.array(lengths_sorted)[:,i], 100,\n",
        "              density=True,\n",
        "              histtype='bar',\n",
        "              facecolor='b',\n",
        "              alpha=0.5 )\n",
        "    plt.title( 'Sorted length distribution, piece '+str(i) ) \n",
        "    plt.xlim(0,1)\n",
        "    plt.show() \n",
        "  # Total length distribution \n",
        "  plt.figure(figsize=(16, 3))\n",
        "  plt.hist( np.array(all_lengths), 100,\n",
        "            density=True,\n",
        "            histtype='bar',\n",
        "            facecolor='b',\n",
        "            alpha=0.5 )\n",
        "  plt.title( 'Length Distribution' ) \n",
        "  plt.xlim(0,1)\n",
        "  plt.show() \n",
        "  return lengths_sorted \n",
        "  \n"
      ]
    },
    {
      "cell_type": "code",
      "execution_count": 5,
      "metadata": {
        "colab": {
          "base_uri": "https://localhost:8080/",
          "height": 1000
        },
        "id": "ZasoC6SY9fhm",
        "outputId": "b6a57875-ab8e-4bc7-ff87-e07cc4974850"
      },
      "outputs": [
        {
          "name": "stdout",
          "output_type": "stream",
          "text": [
            "Breaking a stick into 2 pieces...\n",
            "min: 0.0\n",
            "max: 0.5\n",
            "mode: ModeResult(mode=array([0.15141]), count=array([10]))\n"
          ]
        },
        {
          "data": {
            "image/png": "[encoded data removed]",
            "text/plain": [
              "<Figure size 1152x216 with 1 Axes>"
            ]
          },
          "metadata": {
            "needs_background": "light"
          },
          "output_type": "display_data"
        },
        {
          "name": "stdout",
          "output_type": "stream",
          "text": [
            "min: 0.5\n",
            "max: 1.0\n",
            "mode: ModeResult(mode=array([0.52067]), count=array([10]))\n"
          ]
        },
        {
          "data": {
            "image/png": "[encoded data removed]",
            "text/plain": [
              "<Figure size 1152x216 with 1 Axes>"
            ]
          },
          "metadata": {
            "needs_background": "light"
          },
          "output_type": "display_data"
        },
        {
          "data": {
            "image/png": "[encoded data removed]",
            "text/plain": [
              "<Figure size 1152x216 with 1 Axes>"
            ]
          },
          "metadata": {
            "needs_background": "light"
          },
          "output_type": "display_data"
        },
        {
          "data": {
            "text/plain": [
              "[[0.30031, 0.69969],\n",
              " [0.16076, 0.83924],\n",
              " [0.09603, 0.90397],\n",
              " [0.08553, 0.91447],\n",
              " [0.03491, 0.96509],\n",
              " [0.10061, 0.89939],\n",
              " [0.29403, 0.70597],\n",
              " [0.36814, 0.63186],\n",
              " [0.2843, 0.7157],\n",
              " [0.19581, 0.80419],\n",
              " [0.29661, 0.70339],\n",
              " [0.38472, 0.61528],\n",
              " [0.34212, 0.65788],\n",
              " [0.27602, 0.72398],\n",
              " [0.17166, 0.82834],\n",
              " [0.26833, 0.73167],\n",
              " [0.14502, 0.85498],\n",
              " [0.29839, 0.70161],\n",
              " [0.4015, 0.5985],\n",
              " [0.01627, 0.98373],\n",
              " [0.00718, 0.99282],\n",
              " [0.01585, 0.98415],\n",
              " [0.4739, 0.5261],\n",
              " [0.15459, 0.84541],\n",
              " [0.23065, 0.76935],\n",
              " [0.07672, 0.92328],\n",
              " [0.43288, 0.56712],\n",
              " [0.12779, 0.87221],\n",
              " [0.45787, 0.54213],\n",
              " [0.10554, 0.89446],\n",
              " [0.09273, 0.90727],\n",
              " [0.38824, 0.61176],\n",
              " [0.31455, 0.68545],\n",
              " [0.21178, 0.78822],\n",
              " [0.47711, 0.52289],\n",
              " [0.37045, 0.62955],\n",
              " [0.25305, 0.74695],\n",
              " [0.48136, 0.51864],\n",
              " [0.32993, 0.67007],\n",
              " [0.09519, 0.90481],\n",
              " [0.06264, 0.93736],\n",
              " [0.42276, 0.57724],\n",
              " [0.34605, 0.65395],\n",
              " [0.15006, 0.84994],\n",
              " [0.37066, 0.62934],\n",
              " [0.24063, 0.75937],\n",
              " [0.25063, 0.74937],\n",
              " [0.28584, 0.71416],\n",
              " [0.28416, 0.71584],\n",
              " [0.07423, 0.92577],\n",
              " [0.34455, 0.65545],\n",
              " [0.28587, 0.71413],\n",
              " [0.39096, 0.60904],\n",
              " [0.26557, 0.73443],\n",
              " [0.01977, 0.98023],\n",
              " [0.15665, 0.84335],\n",
              " [0.4176, 0.5824],\n",
              " [0.39945, 0.60055],\n",
              " [0.15314, 0.84686],\n",
              " [0.22371, 0.77629],\n",
              " [0.05771, 0.94229],\n",
              " [0.0486, 0.9514],\n",
              " [0.36495, 0.63505],\n",
              " [0.13733, 0.86267],\n",
              " [0.11756, 0.88244],\n",
              " [0.40749, 0.59251],\n",
              " [0.31541, 0.68459],\n",
              " [0.25194, 0.74806],\n",
              " [0.413, 0.587],\n",
              " [0.28386, 0.71614],\n",
              " [0.10289, 0.89711],\n",
              " [0.21476, 0.78524],\n",
              " [0.00239, 0.99761],\n",
              " [0.0971, 0.9029],\n",
              " [0.03222, 0.96778],\n",
              " [0.2474, 0.7526],\n",
              " [0.37441, 0.62559],\n",
              " [0.1107, 0.8893],\n",
              " [0.499, 0.501],\n",
              " [0.13866, 0.86134],\n",
              " [0.48837, 0.51163],\n",
              " [0.10859, 0.89141],\n",
              " [0.40638, 0.59362],\n",
              " [0.32835, 0.67165],\n",
              " [0.26466, 0.73534],\n",
              " [0.33305, 0.66695],\n",
              " [0.13245, 0.86755],\n",
              " [0.10729, 0.89271],\n",
              " [0.47313, 0.52687],\n",
              " [0.02628, 0.97372],\n",
              " [0.00814, 0.99186],\n",
              " [0.12695, 0.87305],\n",
              " [0.09356, 0.90644],\n",
              " [0.40833, 0.59167],\n",
              " [0.33651, 0.66349],\n",
              " [0.45412, 0.54588],\n",
              " [0.10113, 0.89887],\n",
              " [0.23256, 0.76744],\n",
              " [0.01154, 0.98846],\n",
              " [0.20939, 0.79061],\n",
              " [0.32876, 0.67124],\n",
              " [0.32611, 0.67389],\n",
              " [0.47878, 0.52122],\n",
              " [0.27082, 0.72918],\n",
              " [0.27168, 0.72832],\n",
              " [0.4926, 0.5074],\n",
              " [0.17409, 0.82591],\n",
              " [0.08541, 0.91459],\n",
              " [0.10956, 0.89044],\n",
              " [0.2222, 0.7778],\n",
              " [0.09065, 0.90935],\n",
              " [0.16251, 0.83749],\n",
              " [0.42592, 0.57408],\n",
              " [0.49752, 0.50248],\n",
              " [0.34622, 0.65378],\n",
              " [0.34236, 0.65764],\n",
              " [0.34838, 0.65162],\n",
              " [0.14518, 0.85482],\n",
              " [0.06738, 0.93262],\n",
              " [0.33684, 0.66316],\n",
              " [0.25343, 0.74657],\n",
              " [0.24833, 0.75167],\n",
              " [0.35118, 0.64882],\n",
              " [0.30452, 0.69548],\n",
              " [0.14857, 0.85143],\n",
              " [0.19086, 0.80914],\n",
              " [0.49029, 0.50971],\n",
              " [0.39806, 0.60194],\n",
              " [0.32677, 0.67323],\n",
              " [0.42331, 0.57669],\n",
              " [0.2479, 0.7521],\n",
              " [0.28031, 0.71969],\n",
              " [0.19813, 0.80187],\n",
              " [0.09249, 0.90751],\n",
              " [0.01368, 0.98632],\n",
              " [0.3378, 0.6622],\n",
              " [0.19051, 0.80949],\n",
              " [0.13194, 0.86806],\n",
              " [0.36286, 0.63714],\n",
              " [0.47649, 0.52351],\n",
              " [0.00214, 0.99786],\n",
              " [0.31576, 0.68424],\n",
              " [0.36665, 0.63335],\n",
              " [0.1023, 0.8977],\n",
              " [0.07265, 0.92735],\n",
              " [0.18, 0.82],\n",
              " [0.3303, 0.6697],\n",
              " [0.12322, 0.87678],\n",
              " [0.41086, 0.58914],\n",
              " [0.05979, 0.94021],\n",
              " [0.16413, 0.83587],\n",
              " [0.26824, 0.73176],\n",
              " [0.48113, 0.51887],\n",
              " [0.21553, 0.78447],\n",
              " [0.13551, 0.86449],\n",
              " [0.15063, 0.84937],\n",
              " [0.2297, 0.7703],\n",
              " [0.28497, 0.71503],\n",
              " [0.09707, 0.90293],\n",
              " [0.11333, 0.88667],\n",
              " [0.21668, 0.78332],\n",
              " [0.07524, 0.92476],\n",
              " [0.00027, 0.99973],\n",
              " [0.43596, 0.56404],\n",
              " [0.31464, 0.68536],\n",
              " [0.15717, 0.84283],\n",
              " [0.40204, 0.59796],\n",
              " [0.10881, 0.89119],\n",
              " [0.13116, 0.86884],\n",
              " [0.33342, 0.66658],\n",
              " [0.03576, 0.96424],\n",
              " [0.31466, 0.68534],\n",
              " [0.2937, 0.7063],\n",
              " [0.30238, 0.69762],\n",
              " [0.45248, 0.54752],\n",
              " [0.30765, 0.69235],\n",
              " [0.48449, 0.51551],\n",
              " [0.39396, 0.60604],\n",
              " [0.42914, 0.57086],\n",
              " [0.37687, 0.62313],\n",
              " [0.30016, 0.69984],\n",
              " [0.194, 0.806],\n",
              " [0.23424, 0.76576],\n",
              " [0.06861, 0.93139],\n",
              " [0.283, 0.717],\n",
              " [0.25969, 0.74031],\n",
              " [0.1076, 0.8924],\n",
              " [0.39328, 0.60672],\n",
              " [0.08918, 0.91082],\n",
              " [0.22187, 0.77813],\n",
              " [0.36828, 0.63172],\n",
              " [0.12599, 0.87401],\n",
              " [0.12201, 0.87799],\n",
              " [0.27328, 0.72672],\n",
              " [0.27808, 0.72192],\n",
              " [0.27354, 0.72646],\n",
              " [0.19547, 0.80453],\n",
              " [0.14233, 0.85767],\n",
              " [0.25024, 0.74976],\n",
              " [0.28562, 0.71438],\n",
              " [0.49405, 0.50595],\n",
              " [0.12247, 0.87753],\n",
              " [0.3265, 0.6735],\n",
              " [0.29692, 0.70308],\n",
              " [0.29383, 0.70617],\n",
              " [0.29065, 0.70935],\n",
              " [0.47442, 0.52558],\n",
              " [0.04528, 0.95472],\n",
              " [0.38226, 0.61774],\n",
              " [0.33872, 0.66128],\n",
              " [0.12631, 0.87369],\n",
              " [0.02009, 0.97991],\n",
              " [0.45754, 0.54246],\n",
              " [0.35426, 0.64574],\n",
              " [0.07436, 0.92564],\n",
              " [0.49042, 0.50958],\n",
              " [0.13018, 0.86982],\n",
              " [0.09719, 0.90281],\n",
              " [0.00997, 0.99003],\n",
              " [0.14166, 0.85834],\n",
              " [0.09129, 0.90871],\n",
              " [0.22668, 0.77332],\n",
              " [0.20582, 0.79418],\n",
              " [0.23805, 0.76195],\n",
              " [0.32117, 0.67883],\n",
              " [0.09324, 0.90676],\n",
              " [0.00703, 0.99297],\n",
              " [0.31196, 0.68804],\n",
              " [0.2053, 0.7947],\n",
              " [0.35104, 0.64896],\n",
              " [0.39355, 0.60645],\n",
              " [0.04968, 0.95032],\n",
              " [0.36128, 0.63872],\n",
              " [0.03304, 0.96696],\n",
              " [0.20909, 0.79091],\n",
              " [0.39507, 0.60493],\n",
              " [0.10115, 0.89885],\n",
              " [0.45902, 0.54098],\n",
              " [0.17326, 0.82674],\n",
              " [0.37061, 0.62939],\n",
              " [0.32309, 0.67691],\n",
              " [0.33057, 0.66943],\n",
              " [0.01371, 0.98629],\n",
              " [0.31094, 0.68906],\n",
              " [0.2474, 0.7526],\n",
              " [0.35315, 0.64685],\n",
              " [0.30478, 0.69522],\n",
              " [0.4887, 0.5113],\n",
              " [0.00731, 0.99269],\n",
              " [0.09099, 0.90901],\n",
              " [0.37665, 0.62335],\n",
              " [0.19516, 0.80484],\n",
              " [0.32412, 0.67588],\n",
              " [0.11849, 0.88151],\n",
              " [0.44994, 0.55006],\n",
              " [0.41439, 0.58561],\n",
              " [0.20026, 0.79974],\n",
              " [0.06995, 0.93005],\n",
              " [0.38991, 0.61009],\n",
              " [0.31199, 0.68801],\n",
              " [0.26494, 0.73506],\n",
              " [0.21758, 0.78242],\n",
              " [0.05897, 0.94103],\n",
              " [0.25242, 0.74758],\n",
              " [0.28276, 0.71724],\n",
              " [0.20837, 0.79163],\n",
              " [0.26016, 0.73984],\n",
              " [0.11244, 0.88756],\n",
              " [0.45726, 0.54274],\n",
              " [0.16372, 0.83628],\n",
              " [0.49461, 0.50539],\n",
              " [0.03917, 0.96083],\n",
              " [0.02519, 0.97481],\n",
              " [0.31617, 0.68383],\n",
              " [0.26519, 0.73481],\n",
              " [0.10443, 0.89557],\n",
              " [0.43332, 0.56668],\n",
              " [0.34701, 0.65299],\n",
              " [0.42976, 0.57024],\n",
              " [0.05843, 0.94157],\n",
              " [0.20738, 0.79262],\n",
              " [0.25151, 0.74849],\n",
              " [0.23829, 0.76171],\n",
              " [0.08215, 0.91785],\n",
              " [0.18935, 0.81065],\n",
              " [0.09752, 0.90248],\n",
              " [0.35545, 0.64455],\n",
              " [0.48796, 0.51204],\n",
              " [0.49524, 0.50476],\n",
              " [0.38226, 0.61774],\n",
              " [0.33408, 0.66592],\n",
              " [0.21186, 0.78814],\n",
              " [0.26919, 0.73081],\n",
              " [0.49253, 0.50747],\n",
              " [0.28391, 0.71609],\n",
              " [0.01597, 0.98403],\n",
              " [0.38849, 0.61151],\n",
              " [0.21571, 0.78429],\n",
              " [0.04137, 0.95863],\n",
              " [0.04935, 0.95065],\n",
              " [0.28377, 0.71623],\n",
              " [0.14264, 0.85736],\n",
              " [0.34921, 0.65079],\n",
              " [0.16979, 0.83021],\n",
              " [0.31184, 0.68816],\n",
              " [0.42774, 0.57226],\n",
              " [0.42701, 0.57299],\n",
              " [0.23531, 0.76469],\n",
              " [0.25767, 0.74233],\n",
              " [0.25891, 0.74109],\n",
              " [0.25202, 0.74798],\n",
              " [0.44723, 0.55277],\n",
              " [0.30752, 0.69248],\n",
              " [0.04751, 0.95249],\n",
              " [0.47354, 0.52646],\n",
              " [0.39468, 0.60532],\n",
              " [0.37928, 0.62072],\n",
              " [0.299, 0.701],\n",
              " [0.10667, 0.89333],\n",
              " [0.33965, 0.66035],\n",
              " [0.11539, 0.88461],\n",
              " [0.22543, 0.77457],\n",
              " [0.43814, 0.56186],\n",
              " [0.31123, 0.68877],\n",
              " [0.03939, 0.96061],\n",
              " [0.35222, 0.64778],\n",
              " [0.00148, 0.99852],\n",
              " [0.39979, 0.60021],\n",
              " [0.36199, 0.63801],\n",
              " [0.30487, 0.69513],\n",
              " [0.29356, 0.70644],\n",
              " [0.18732, 0.81268],\n",
              " [0.32036, 0.67964],\n",
              " [0.36427, 0.63573],\n",
              " [0.06325, 0.93675],\n",
              " [0.47524, 0.52476],\n",
              " [0.03838, 0.96162],\n",
              " [0.44145, 0.55855],\n",
              " [0.20908, 0.79092],\n",
              " [0.07857, 0.92143],\n",
              " [0.35486, 0.64514],\n",
              " [0.06216, 0.93784],\n",
              " [0.3185, 0.6815],\n",
              " [0.46124, 0.53876],\n",
              " [0.09698, 0.90302],\n",
              " [0.33996, 0.66004],\n",
              " [0.08112, 0.91888],\n",
              " [0.06429, 0.93571],\n",
              " [0.04309, 0.95691],\n",
              " [0.10675, 0.89325],\n",
              " [0.43711, 0.56289],\n",
              " [0.35401, 0.64599],\n",
              " [0.03674, 0.96326],\n",
              " [0.38873, 0.61127],\n",
              " [0.35773, 0.64227],\n",
              " [0.32529, 0.67471],\n",
              " [0.29755, 0.70245],\n",
              " [0.18109, 0.81891],\n",
              " [0.46452, 0.53548],\n",
              " [0.22752, 0.77248],\n",
              " [0.31124, 0.68876],\n",
              " [0.45773, 0.54227],\n",
              " [0.42354, 0.57646],\n",
              " [0.47371, 0.52629],\n",
              " [0.37385, 0.62615],\n",
              " [0.2218, 0.7782],\n",
              " [0.36441, 0.63559],\n",
              " [0.28469, 0.71531],\n",
              " [0.30124, 0.69876],\n",
              " [0.32656, 0.67344],\n",
              " [0.35289, 0.64711],\n",
              " [0.27204, 0.72796],\n",
              " [0.46016, 0.53984],\n",
              " [0.1187, 0.8813],\n",
              " [0.22934, 0.77066],\n",
              " [0.36502, 0.63498],\n",
              " [0.1226, 0.8774],\n",
              " [0.44582, 0.55418],\n",
              " [0.31096, 0.68904],\n",
              " [0.48965, 0.51035],\n",
              " [0.34334, 0.65666],\n",
              " [0.02689, 0.97311],\n",
              " [0.20972, 0.79028],\n",
              " [0.32407, 0.67593],\n",
              " [0.26632, 0.73368],\n",
              " [0.16589, 0.83411],\n",
              " [0.20236, 0.79764],\n",
              " [0.39013, 0.60987],\n",
              " [0.47327, 0.52673],\n",
              " [0.24015, 0.75985],\n",
              " [0.46047, 0.53953],\n",
              " [0.04527, 0.95473],\n",
              " [0.10453, 0.89547],\n",
              " [0.12122, 0.87878],\n",
              " [0.14835, 0.85165],\n",
              " [0.36455, 0.63545],\n",
              " [0.40667, 0.59333],\n",
              " [0.09556, 0.90444],\n",
              " [0.12527, 0.87473],\n",
              " [0.14765, 0.85235],\n",
              " [0.19666, 0.80334],\n",
              " [0.48647, 0.51353],\n",
              " [0.02013, 0.97987],\n",
              " [0.40533, 0.59467],\n",
              " [0.45866, 0.54134],\n",
              " [0.2413, 0.7587],\n",
              " [0.27592, 0.72408],\n",
              " [0.32801, 0.67199],\n",
              " [0.07934, 0.92066],\n",
              " [0.29101, 0.70899],\n",
              " [0.35028, 0.64972],\n",
              " [0.24974, 0.75026],\n",
              " [0.23327, 0.76673],\n",
              " [0.21798, 0.78202],\n",
              " [0.18427, 0.81573],\n",
              " [0.42883, 0.57117],\n",
              " [0.48473, 0.51527],\n",
              " [0.28909, 0.71091],\n",
              " [0.38087, 0.61913],\n",
              " [0.4395, 0.5605],\n",
              " [0.16508, 0.83492],\n",
              " [0.13587, 0.86413],\n",
              " [0.21293, 0.78707],\n",
              " [0.08949, 0.91051],\n",
              " [0.308, 0.692],\n",
              " [0.45093, 0.54907],\n",
              " [0.19494, 0.80506],\n",
              " [0.02505, 0.97495],\n",
              " [0.39291, 0.60709],\n",
              " [0.00667, 0.99333],\n",
              " [0.09237, 0.90763],\n",
              " [0.2426, 0.7574],\n",
              " [0.2592, 0.7408],\n",
              " [0.39072, 0.60928],\n",
              " [0.08253, 0.91747],\n",
              " [0.01092, 0.98908],\n",
              " [0.13961, 0.86039],\n",
              " [0.23304, 0.76696],\n",
              " [0.39038, 0.60962],\n",
              " [0.3236, 0.6764],\n",
              " [0.04758, 0.95242],\n",
              " [0.21925, 0.78075],\n",
              " [0.14747, 0.85253],\n",
              " [0.44304, 0.55696],\n",
              " [0.0095, 0.9905],\n",
              " [0.092, 0.908],\n",
              " [0.15965, 0.84035],\n",
              " [0.09162, 0.90838],\n",
              " [0.30501, 0.69499],\n",
              " [0.46419, 0.53581],\n",
              " [0.466, 0.534],\n",
              " [0.46717, 0.53283],\n",
              " [0.28085, 0.71915],\n",
              " [0.4579, 0.5421],\n",
              " [0.07538, 0.92462],\n",
              " [0.44169, 0.55831],\n",
              " [0.24807, 0.75193],\n",
              " [0.12444, 0.87556],\n",
              " [0.00615, 0.99385],\n",
              " [0.29284, 0.70716],\n",
              " [0.29427, 0.70573],\n",
              " [0.29628, 0.70372],\n",
              " [0.3195, 0.6805],\n",
              " [0.43746, 0.56254],\n",
              " [0.38958, 0.61042],\n",
              " [0.3057, 0.6943],\n",
              " [0.18281, 0.81719],\n",
              " [0.44059, 0.55941],\n",
              " [0.26261, 0.73739],\n",
              " [0.19601, 0.80399],\n",
              " [0.22315, 0.77685],\n",
              " [0.26553, 0.73447],\n",
              " [0.49059, 0.50941],\n",
              " [0.13227, 0.86773],\n",
              " [0.44875, 0.55125],\n",
              " [0.31651, 0.68349],\n",
              " [0.40619, 0.59381],\n",
              " [0.48279, 0.51721],\n",
              " [0.34839, 0.65161],\n",
              " [0.17905, 0.82095],\n",
              " [0.00569, 0.99431],\n",
              " [0.37569, 0.62431],\n",
              " [0.34535, 0.65465],\n",
              " [0.04439, 0.95561],\n",
              " [0.37902, 0.62098],\n",
              " [0.26878, 0.73122],\n",
              " [0.46321, 0.53679],\n",
              " [0.27536, 0.72464],\n",
              " [0.20944, 0.79056],\n",
              " [0.40023, 0.59977],\n",
              " [0.10481, 0.89519],\n",
              " [0.11368, 0.88632],\n",
              " [0.3743, 0.6257],\n",
              " [0.27893, 0.72107],\n",
              " [0.35511, 0.64489],\n",
              " [0.02364, 0.97636],\n",
              " [0.36028, 0.63972],\n",
              " [0.20618, 0.79382],\n",
              " [0.37366, 0.62634],\n",
              " [0.29974, 0.70026],\n",
              " [0.11625, 0.88375],\n",
              " [0.10687, 0.89313],\n",
              " [0.2397, 0.7603],\n",
              " [0.10177, 0.89823],\n",
              " [0.29593, 0.70407],\n",
              " [0.39015, 0.60985],\n",
              " [0.41448, 0.58552],\n",
              " [0.43151, 0.56849],\n",
              " [0.02208, 0.97792],\n",
              " [0.33225, 0.66775],\n",
              " [0.01774, 0.98226],\n",
              " [0.48144, 0.51856],\n",
              " [0.27914, 0.72086],\n",
              " [0.26295, 0.73705],\n",
              " [0.41164, 0.58836],\n",
              " [0.09, 0.91],\n",
              " [0.45475, 0.54525],\n",
              " [0.02754, 0.97246],\n",
              " [0.34339, 0.65661],\n",
              " [0.03624, 0.96376],\n",
              " [0.19278, 0.80722],\n",
              " [0.19806, 0.80194],\n",
              " [0.42865, 0.57135],\n",
              " [0.1387, 0.8613],\n",
              " [0.10895, 0.89105],\n",
              " [0.11891, 0.88109],\n",
              " [0.24467, 0.75533],\n",
              " [0.28013, 0.71987],\n",
              " [0.06163, 0.93837],\n",
              " [0.20772, 0.79228],\n",
              " [0.29171, 0.70829],\n",
              " [0.09812, 0.90188],\n",
              " [0.1462, 0.8538],\n",
              " [0.41423, 0.58577],\n",
              " [0.11343, 0.88657],\n",
              " [0.05912, 0.94088],\n",
              " [0.43658, 0.56342],\n",
              " [0.01051, 0.98949],\n",
              " [0.21399, 0.78601],\n",
              " [0.28986, 0.71014],\n",
              " [0.43227, 0.56773],\n",
              " [0.00263, 0.99737],\n",
              " [0.38884, 0.61116],\n",
              " [0.35904, 0.64096],\n",
              " [0.23917, 0.76083],\n",
              " [0.47132, 0.52868],\n",
              " [0.49145, 0.50855],\n",
              " [0.4894, 0.5106],\n",
              " [0.03609, 0.96391],\n",
              " [0.37138, 0.62862],\n",
              " [0.49021, 0.50979],\n",
              " [0.0489, 0.9511],\n",
              " [0.04473, 0.95527],\n",
              " [0.10048, 0.89952],\n",
              " [0.38665, 0.61335],\n",
              " [0.42602, 0.57398],\n",
              " [0.20561, 0.79439],\n",
              " [0.07867, 0.92133],\n",
              " [0.48071, 0.51929],\n",
              " [0.16014, 0.83986],\n",
              " [0.03081, 0.96919],\n",
              " [0.22912, 0.77088],\n",
              " [0.48133, 0.51867],\n",
              " [0.41683, 0.58317],\n",
              " [0.00852, 0.99148],\n",
              " [0.19768, 0.80232],\n",
              " [0.25766, 0.74234],\n",
              " [0.18912, 0.81088],\n",
              " [0.1347, 0.8653],\n",
              " [0.22769, 0.77231],\n",
              " [0.32167, 0.67833],\n",
              " [0.35138, 0.64862],\n",
              " [0.46826, 0.53174],\n",
              " [0.49088, 0.50912],\n",
              " [0.42961, 0.57039],\n",
              " [0.39661, 0.60339],\n",
              " [0.48136, 0.51864],\n",
              " [0.3883, 0.6117],\n",
              " [0.23395, 0.76605],\n",
              " [0.4465, 0.5535],\n",
              " [0.44698, 0.55302],\n",
              " [0.3522, 0.6478],\n",
              " [0.20412, 0.79588],\n",
              " [0.10367, 0.89633],\n",
              " [0.07409, 0.92591],\n",
              " [0.22833, 0.77167],\n",
              " [0.49964, 0.50036],\n",
              " [0.26729, 0.73271],\n",
              " [0.3372, 0.6628],\n",
              " [0.32569, 0.67431],\n",
              " [0.45651, 0.54349],\n",
              " [0.45013, 0.54987],\n",
              " [0.28196, 0.71804],\n",
              " [0.29239, 0.70761],\n",
              " [0.19149, 0.80851],\n",
              " [0.18627, 0.81373],\n",
              " [0.30309, 0.69691],\n",
              " [0.19296, 0.80704],\n",
              " [0.129, 0.871],\n",
              " [0.47283, 0.52717],\n",
              " [0.0425, 0.9575],\n",
              " [0.02908, 0.97092],\n",
              " [0.30118, 0.69882],\n",
              " [0.06778, 0.93222],\n",
              " [0.15548, 0.84452],\n",
              " [0.39331, 0.60669],\n",
              " [0.21089, 0.78911],\n",
              " [0.12387, 0.87613],\n",
              " [0.18733, 0.81267],\n",
              " [0.4466, 0.5534],\n",
              " [0.40847, 0.59153],\n",
              " [0.04203, 0.95797],\n",
              " [0.35754, 0.64246],\n",
              " [0.04647, 0.95353],\n",
              " [0.14912, 0.85088],\n",
              " [0.18878, 0.81122],\n",
              " [0.11111, 0.88889],\n",
              " [0.44247, 0.55753],\n",
              " [0.2252, 0.7748],\n",
              " [0.36127, 0.63873],\n",
              " [0.1882, 0.8118],\n",
              " [0.44301, 0.55699],\n",
              " [0.37353, 0.62647],\n",
              " [0.4786, 0.5214],\n",
              " [0.01636, 0.98364],\n",
              " [0.07638, 0.92362],\n",
              " [0.04402, 0.95598],\n",
              " [0.03362, 0.96638],\n",
              " [0.46679, 0.53321],\n",
              " [0.3083, 0.6917],\n",
              " [0.09911, 0.90089],\n",
              " [0.21227, 0.78773],\n",
              " [0.14087, 0.85913],\n",
              " [0.07608, 0.92392],\n",
              " [0.256, 0.744],\n",
              " [0.20874, 0.79126],\n",
              " [0.43621, 0.56379],\n",
              " [0.15217, 0.84783],\n",
              " [0.15665, 0.84335],\n",
              " [0.22119, 0.77881],\n",
              " [0.45207, 0.54793],\n",
              " [0.44294, 0.55706],\n",
              " [0.39315, 0.60685],\n",
              " [0.34222, 0.65778],\n",
              " [0.00309, 0.99691],\n",
              " [0.21503, 0.78497],\n",
              " [0.27151, 0.72849],\n",
              " [0.37187, 0.62813],\n",
              " [0.453, 0.547],\n",
              " [0.22568, 0.77432],\n",
              " [0.41127, 0.58873],\n",
              " [0.15318, 0.84682],\n",
              " [0.0367, 0.9633],\n",
              " [0.44041, 0.55959],\n",
              " [0.18335, 0.81665],\n",
              " [0.25269, 0.74731],\n",
              " [0.1029, 0.8971],\n",
              " [0.33401, 0.66599],\n",
              " [0.03519, 0.96481],\n",
              " [0.20455, 0.79545],\n",
              " [0.23102, 0.76898],\n",
              " [0.12213, 0.87787],\n",
              " [0.23011, 0.76989],\n",
              " [0.38808, 0.61192],\n",
              " [0.02904, 0.97096],\n",
              " [0.13286, 0.86714],\n",
              " [0.27162, 0.72838],\n",
              " [0.05363, 0.94637],\n",
              " [0.2481, 0.7519],\n",
              " [0.35583, 0.64417],\n",
              " [0.45776, 0.54224],\n",
              " [0.42481, 0.57519],\n",
              " [0.16301, 0.83699],\n",
              " [0.34732, 0.65268],\n",
              " [0.3809, 0.6191],\n",
              " [0.49322, 0.50678],\n",
              " [0.2757, 0.7243],\n",
              " [0.35675, 0.64325],\n",
              " [0.48003, 0.51997],\n",
              " [0.48823, 0.51177],\n",
              " [0.39587, 0.60413],\n",
              " [0.15816, 0.84184],\n",
              " [0.18851, 0.81149],\n",
              " [0.0025, 0.9975],\n",
              " [0.19833, 0.80167],\n",
              " [0.09315, 0.90685],\n",
              " [0.44622, 0.55378],\n",
              " [0.21824, 0.78176],\n",
              " [0.3752, 0.6248],\n",
              " [0.48606, 0.51394],\n",
              " [0.4927, 0.5073],\n",
              " [0.45241, 0.54759],\n",
              " [0.12494, 0.87506],\n",
              " [0.12982, 0.87018],\n",
              " [0.43097, 0.56903],\n",
              " [0.47901, 0.52099],\n",
              " [0.42835, 0.57165],\n",
              " [0.02001, 0.97999],\n",
              " [0.0968, 0.9032],\n",
              " [0.00912, 0.99088],\n",
              " [0.06777, 0.93223],\n",
              " [0.03478, 0.96522],\n",
              " [0.09424, 0.90576],\n",
              " [0.18894, 0.81106],\n",
              " [0.09206, 0.90794],\n",
              " [0.12461, 0.87539],\n",
              " [0.24449, 0.75551],\n",
              " [0.04913, 0.95087],\n",
              " [0.24621, 0.75379],\n",
              " [0.10162, 0.89838],\n",
              " [0.3408, 0.6592],\n",
              " [0.12342, 0.87658],\n",
              " [0.18875, 0.81125],\n",
              " [0.08754, 0.91246],\n",
              " [0.30472, 0.69528],\n",
              " [0.19763, 0.80237],\n",
              " [0.05075, 0.94925],\n",
              " [0.38377, 0.61623],\n",
              " [0.31364, 0.68636],\n",
              " [0.39135, 0.60865],\n",
              " [0.14105, 0.85895],\n",
              " [0.336, 0.664],\n",
              " [0.22067, 0.77933],\n",
              " [0.02125, 0.97875],\n",
              " [0.45161, 0.54839],\n",
              " [0.36448, 0.63552],\n",
              " [0.33732, 0.66268],\n",
              " [0.05736, 0.94264],\n",
              " [0.06465, 0.93535],\n",
              " [9e-05, 0.99991],\n",
              " [0.47565, 0.52435],\n",
              " [0.36229, 0.63771],\n",
              " [0.44713, 0.55287],\n",
              " [0.14181, 0.85819],\n",
              " [0.44615, 0.55385],\n",
              " [0.24084, 0.75916],\n",
              " [0.29997, 0.70003],\n",
              " [0.14441, 0.85559],\n",
              " [0.0901, 0.9099],\n",
              " [0.35384, 0.64616],\n",
              " [0.09918, 0.90082],\n",
              " [0.42766, 0.57234],\n",
              " [0.28212, 0.71788],\n",
              " [0.05701, 0.94299],\n",
              " [0.1646, 0.8354],\n",
              " [0.08471, 0.91529],\n",
              " [0.43735, 0.56265],\n",
              " [0.02197, 0.97803],\n",
              " [0.00061, 0.99939],\n",
              " [0.45829, 0.54171],\n",
              " [0.43229, 0.56771],\n",
              " [0.23605, 0.76395],\n",
              " [0.18318, 0.81682],\n",
              " [0.17862, 0.82138],\n",
              " [0.3153, 0.6847],\n",
              " [0.09515, 0.90485],\n",
              " [0.34306, 0.65694],\n",
              " [0.35752, 0.64248],\n",
              " [0.31308, 0.68692],\n",
              " [0.17568, 0.82432],\n",
              " [0.17096, 0.82904],\n",
              " [0.32358, 0.67642],\n",
              " [0.03935, 0.96065],\n",
              " [0.26874, 0.73126],\n",
              " [0.2383, 0.7617],\n",
              " [0.30371, 0.69629],\n",
              " [0.0617, 0.9383],\n",
              " [0.22409, 0.77591],\n",
              " [0.2325, 0.7675],\n",
              " [0.31095, 0.68905],\n",
              " [0.1977, 0.8023],\n",
              " [0.17101, 0.82899],\n",
              " [0.46254, 0.53746],\n",
              " [0.48357, 0.51643],\n",
              " [0.30345, 0.69655],\n",
              " [0.0121, 0.9879],\n",
              " [0.21807, 0.78193],\n",
              " [0.38826, 0.61174],\n",
              " [0.09579, 0.90421],\n",
              " [0.20657, 0.79343],\n",
              " [0.10017, 0.89983],\n",
              " [0.29953, 0.70047],\n",
              " [0.17148, 0.82852],\n",
              " [0.14467, 0.85533],\n",
              " [0.46884, 0.53116],\n",
              " [0.39402, 0.60598],\n",
              " [0.01089, 0.98911],\n",
              " [0.33754, 0.66246],\n",
              " [0.37761, 0.62239],\n",
              " [0.1102, 0.8898],\n",
              " [0.14076, 0.85924],\n",
              " [0.20077, 0.79923],\n",
              " [0.26007, 0.73993],\n",
              " [0.29226, 0.70774],\n",
              " [0.45664, 0.54336],\n",
              " [0.42841, 0.57159],\n",
              " [0.19763, 0.80237],\n",
              " [0.44323, 0.55677],\n",
              " [0.46035, 0.53965],\n",
              " [0.22509, 0.77491],\n",
              " [0.26461, 0.73539],\n",
              " [0.087, 0.913],\n",
              " [0.07822, 0.92178],\n",
              " [0.23099, 0.76901],\n",
              " [0.15152, 0.84848],\n",
              " [0.05877, 0.94123],\n",
              " [0.13121, 0.86879],\n",
              " [0.4395, 0.5605],\n",
              " [0.26877, 0.73123],\n",
              " [0.40193, 0.59807],\n",
              " [0.4998, 0.5002],\n",
              " [0.41859, 0.58141],\n",
              " [0.29505, 0.70495],\n",
              " [0.2756, 0.7244],\n",
              " [0.45249, 0.54751],\n",
              " [0.25531, 0.74469],\n",
              " [0.05457, 0.94543],\n",
              " [0.07023, 0.92977],\n",
              " [0.30212, 0.69788],\n",
              " [0.12377, 0.87623],\n",
              " [0.48223, 0.51777],\n",
              " [0.08931, 0.91069],\n",
              " [0.00692, 0.99308],\n",
              " [0.41851, 0.58149],\n",
              " [0.01987, 0.98013],\n",
              " [0.37139, 0.62861],\n",
              " [0.2729, 0.7271],\n",
              " [0.45146, 0.54854],\n",
              " [0.41787, 0.58213],\n",
              " [0.0758, 0.9242],\n",
              " [0.36812, 0.63188],\n",
              " [0.02962, 0.97038],\n",
              " [0.35048, 0.64952],\n",
              " [0.10111, 0.89889],\n",
              " [0.43431, 0.56569],\n",
              " [0.24213, 0.75787],\n",
              " [0.16182, 0.83818],\n",
              " [0.35927, 0.64073],\n",
              " [0.14973, 0.85027],\n",
              " [0.21266, 0.78734],\n",
              " [0.49043, 0.50957],\n",
              " [0.42818, 0.57182],\n",
              " [0.08911, 0.91089],\n",
              " [0.46829, 0.53171],\n",
              " [0.04134, 0.95866],\n",
              " [0.10313, 0.89687],\n",
              " [0.40919, 0.59081],\n",
              " [0.41382, 0.58618],\n",
              " [0.40904, 0.59096],\n",
              " [0.14612, 0.85388],\n",
              " [0.05693, 0.94307],\n",
              " [0.11014, 0.88986],\n",
              " [0.09315, 0.90685],\n",
              " [0.10974, 0.89026],\n",
              " [0.31539, 0.68461],\n",
              " [0.47149, 0.52851],\n",
              " [0.16855, 0.83145],\n",
              " [0.32209, 0.67791],\n",
              " [0.1664, 0.8336],\n",
              " [0.00787, 0.99213],\n",
              " [0.03208, 0.96792],\n",
              " [0.4473, 0.5527],\n",
              " [0.04345, 0.95655],\n",
              " [0.20407, 0.79593],\n",
              " [0.40768, 0.59232],\n",
              " [0.49941, 0.50059],\n",
              " [0.30896, 0.69104],\n",
              " [0.34699, 0.65301],\n",
              " [0.2669, 0.7331],\n",
              " [0.09929, 0.90071],\n",
              " [0.28888, 0.71112],\n",
              " [0.2616, 0.7384],\n",
              " [0.18, 0.82],\n",
              " [0.04318, 0.95682],\n",
              " [0.33896, 0.66104],\n",
              " [0.13179, 0.86821],\n",
              " [0.21474, 0.78526],\n",
              " [0.15866, 0.84134],\n",
              " [0.28662, 0.71338],\n",
              " [0.10992, 0.89008],\n",
              " [0.43363, 0.56637],\n",
              " [0.08574, 0.91426],\n",
              " [0.14065, 0.85935],\n",
              " [0.21464, 0.78536],\n",
              " [0.28479, 0.71521],\n",
              " [0.05016, 0.94984],\n",
              " [0.09637, 0.90363],\n",
              " [0.27643, 0.72357],\n",
              " [0.05029, 0.94971],\n",
              " [0.12816, 0.87184],\n",
              " [0.17105, 0.82895],\n",
              " [0.38726, 0.61274],\n",
              " [0.00307, 0.99693],\n",
              " [0.0911, 0.9089],\n",
              " [0.29794, 0.70206],\n",
              " [0.44113, 0.55887],\n",
              " [0.25841, 0.74159],\n",
              " [0.00396, 0.99604],\n",
              " [0.45896, 0.54104],\n",
              " [0.29834, 0.70166],\n",
              " [0.01991, 0.98009],\n",
              " [0.41852, 0.58148],\n",
              " [0.12667, 0.87333],\n",
              " [0.05237, 0.94763],\n",
              " [0.31922, 0.68078],\n",
              " [0.29164, 0.70836],\n",
              " [0.27767, 0.72233],\n",
              " [0.19311, 0.80689],\n",
              " [0.23586, 0.76414],\n",
              " [0.36511, 0.63489],\n",
              " [0.48595, 0.51405],\n",
              " [0.32071, 0.67929],\n",
              " [0.23741, 0.76259],\n",
              " [0.38126, 0.61874],\n",
              " [0.06272, 0.93728],\n",
              " [0.37403, 0.62597],\n",
              " [0.47827, 0.52173],\n",
              " [0.22578, 0.77422],\n",
              " [0.02208, 0.97792],\n",
              " [0.25761, 0.74239],\n",
              " [0.0636, 0.9364],\n",
              " [0.34775, 0.65225],\n",
              " [0.32109, 0.67891],\n",
              " [0.24026, 0.75974],\n",
              " [0.09144, 0.90856],\n",
              " [0.15708, 0.84292],\n",
              " [0.08854, 0.91146],\n",
              " [0.20281, 0.79719],\n",
              " [0.17288, 0.82712],\n",
              " [0.4204, 0.5796],\n",
              " [0.38031, 0.61969],\n",
              " [0.2507, 0.7493],\n",
              " [0.33439, 0.66561],\n",
              " [0.3741, 0.6259],\n",
              " [0.37109, 0.62891],\n",
              " [0.07819, 0.92181],\n",
              " [0.41067, 0.58933],\n",
              " [0.41975, 0.58025],\n",
              " [0.18433, 0.81567],\n",
              " [0.05476, 0.94524],\n",
              " [0.37077, 0.62923],\n",
              " [0.4893, 0.5107],\n",
              " [0.04388, 0.95612],\n",
              " [0.33596, 0.66404],\n",
              " [0.01582, 0.98418],\n",
              " [0.36564, 0.63436],\n",
              " [0.40588, 0.59412],\n",
              " [0.20858, 0.79142],\n",
              " [0.44406, 0.55594],\n",
              " [0.47182, 0.52818],\n",
              " [0.30856, 0.69144],\n",
              " [0.10822, 0.89178],\n",
              " [0.15257, 0.84743],\n",
              " [0.0186, 0.9814],\n",
              " [0.36728, 0.63272],\n",
              " [0.12473, 0.87527],\n",
              " [0.32342, 0.67658],\n",
              " [0.42645, 0.57355],\n",
              " [0.01331, 0.98669],\n",
              " [0.19858, 0.80142],\n",
              " [0.25055, 0.74945],\n",
              " [0.15925, 0.84075],\n",
              " [0.30835, 0.69165],\n",
              " [0.4479, 0.5521],\n",
              " [0.37956, 0.62044],\n",
              " [0.28938, 0.71062],\n",
              " [0.39761, 0.60239],\n",
              " [0.00328, 0.99672],\n",
              " [0.44933, 0.55067],\n",
              " [0.30371, 0.69629],\n",
              " [0.20163, 0.79837],\n",
              " [0.47428, 0.52572],\n",
              " [0.03489, 0.96511],\n",
              " [0.35488, 0.64512],\n",
              " [0.20093, 0.79907],\n",
              " [0.11198, 0.88802],\n",
              " [0.213, 0.787],\n",
              " [0.15785, 0.84215],\n",
              " [0.06318, 0.93682],\n",
              " [0.05906, 0.94094],\n",
              " [0.01121, 0.98879],\n",
              " [0.44582, 0.55418],\n",
              " [0.4508, 0.5492],\n",
              " [0.25841, 0.74159],\n",
              " [0.00993, 0.99007],\n",
              " [0.28683, 0.71317],\n",
              " [0.41956, 0.58044],\n",
              " [0.11662, 0.88338],\n",
              " [0.26689, 0.73311],\n",
              " [0.05604, 0.94396],\n",
              " [0.3408, 0.6592],\n",
              " [0.49875, 0.50125],\n",
              " [0.48403, 0.51597],\n",
              " [0.23785, 0.76215],\n",
              " [0.21988, 0.78012],\n",
              " [0.12198, 0.87802],\n",
              " [0.08677, 0.91323],\n",
              " [0.25008, 0.74992],\n",
              " [0.38208, 0.61792],\n",
              " [0.00095, 0.99905],\n",
              " ...]"
            ]
          },
          "execution_count": 5,
          "metadata": {},
          "output_type": "execute_result"
        }
      ],
      "source": [
        "analyzePieces(2,100_000)"
      ]
    },
    {
      "cell_type": "code",
      "execution_count": 4,
      "metadata": {
        "colab": {
          "base_uri": "https://localhost:8080/",
          "height": 1000
        },
        "id": "3uoj4Joq-_Yi",
        "outputId": "4871d728-d5e6-4e27-9977-ef45ba3eece0"
      },
      "outputs": [
        {
          "name": "stdout",
          "output_type": "stream",
          "text": [
            "Breaking a stick into 6 pieces...\n",
            "min: 0.0\n",
            "max: 0.16112\n",
            "mode: ModeResult(mode=array([0.00022]), count=array([3177]))\n"
          ]
        },
        {
          "data": {
            "image/png": "[encoded data removed]",
            "text/plain": [
              "<Figure size 1152x216 with 1 Axes>"
            ]
          },
          "metadata": {
            "needs_background": "light"
          },
          "output_type": "display_data"
        },
        {
          "name": "stdout",
          "output_type": "stream",
          "text": [
            "min: 2e-05\n",
            "max: 0.19498\n",
            "mode: ModeResult(mode=array([0.04645]), count=array([1251]))\n"
          ]
        },
        {
          "data": {
            "image/png": "[encoded data removed]",
            "text/plain": [
              "<Figure size 1152x216 with 1 Axes>"
            ]
          },
          "metadata": {
            "needs_background": "light"
          },
          "output_type": "display_data"
        },
        {
          "name": "stdout",
          "output_type": "stream",
          "text": [
            "min: 0.00038\n",
            "max: 0.24396\n",
            "mode: ModeResult(mode=array([0.09619]), count=array([1028]))\n"
          ]
        },
        {
          "data": {
            "image/png": "[encoded data removed]",
            "text/plain": [
              "<Figure size 1152x216 with 1 Axes>"
            ]
          },
          "metadata": {
            "needs_background": "light"
          },
          "output_type": "display_data"
        },
        {
          "name": "stdout",
          "output_type": "stream",
          "text": [
            "min: 0.00171\n",
            "max: 0.32651\n",
            "mode: ModeResult(mode=array([0.16162]), count=array([929]))\n"
          ]
        },
        {
          "data": {
            "image/png": "[encoded data removed]",
            "text/plain": [
              "<Figure size 1152x216 with 1 Axes>"
            ]
          },
          "metadata": {
            "needs_background": "light"
          },
          "output_type": "display_data"
        },
        {
          "name": "stdout",
          "output_type": "stream",
          "text": [
            "min: 0.00928\n",
            "max: 0.48913\n",
            "mode: ModeResult(mode=array([0.23809]), count=array([825]))\n"
          ]
        },
        {
          "data": {
            "image/png": "[encoded data removed]",
            "text/plain": [
              "<Figure size 1152x216 with 1 Axes>"
            ]
          },
          "metadata": {
            "needs_background": "light"
          },
          "output_type": "display_data"
        },
        {
          "name": "stdout",
          "output_type": "stream",
          "text": [
            "min: 0.17372\n",
            "max: 0.97088\n",
            "mode: ModeResult(mode=array([0.37162]), count=array([485]))\n"
          ]
        },
        {
          "data": {
            "image/png": "[encoded data removed]",
            "text/plain": [
              "<Figure size 1152x216 with 1 Axes>"
            ]
          },
          "metadata": {
            "needs_background": "light"
          },
          "output_type": "display_data"
        },
        {
          "data": {
            "image/png": "[encoded data removed]",
            "text/plain": [
              "<Figure size 1152x216 with 1 Axes>"
            ]
          },
          "metadata": {
            "needs_background": "light"
          },
          "output_type": "display_data"
        }
      ],
      "source": [
        "data = analyzePieces(6,10_000_000)"
      ]
    },
    {
      "cell_type": "code",
      "execution_count": 15,
      "metadata": {
        "colab": {
          "base_uri": "https://localhost:8080/",
          "height": 1000
        },
        "id": "dGH54qBpyNeZ",
        "outputId": "6ec9c193-6d67-47b3-f3d9-cf43567fef79"
      },
      "outputs": [
        {
          "name": "stdout",
          "output_type": "stream",
          "text": [
            "0.17372\n",
            "0.17770580000000002\n",
            "0.1816916\n",
            "0.18567740000000002\n",
            "0.1896632\n",
            "0.19364900000000002\n",
            "0.1976348\n",
            "0.2016206\n",
            "0.20560640000000002\n",
            "0.2095922\n",
            "0.21357800000000002\n",
            "0.21756380000000003\n",
            "0.2215496\n",
            "0.22553540000000002\n",
            "0.2295212\n",
            "0.23350700000000002\n",
            "0.2374928\n",
            "0.24147860000000002\n",
            "0.24546440000000003\n",
            "0.2494502\n",
            "0.253436\n",
            "0.25742180000000003\n",
            "0.2614076\n",
            "0.2653934\n",
            "0.26937920000000004\n",
            "0.273365\n",
            "0.2773508\n",
            "0.28133660000000005\n",
            "0.28532240000000003\n",
            "0.2893082\n",
            "0.29329400000000005\n",
            "0.29727980000000004\n",
            "0.3012656\n",
            "0.30525140000000006\n",
            "0.3092372\n",
            "0.31322300000000003\n",
            "0.3172088\n",
            "0.3211946\n",
            "0.32518040000000004\n",
            "0.3291662\n",
            "0.333152\n",
            "0.33713780000000004\n",
            "0.3411236\n",
            "0.3451094\n",
            "0.34909520000000005\n",
            "0.35308100000000003\n",
            "0.3570668\n",
            "0.36105260000000006\n",
            "0.3650384\n",
            "0.3690242\n",
            "0.37301000000000006\n",
            "0.3769958\n",
            "0.38098160000000003\n",
            "0.3849674\n",
            "0.3889532\n",
            "0.39293900000000004\n",
            "0.3969248\n",
            "0.4009106\n",
            "0.40489640000000005\n",
            "0.40888220000000003\n",
            "0.412868\n",
            "0.41685380000000005\n",
            "0.42083960000000004\n",
            "0.4248254\n",
            "0.42881120000000006\n",
            "0.432797\n",
            "0.4367828\n",
            "0.44076860000000007\n",
            "0.4447544\n",
            "0.44874020000000003\n",
            "0.4527260000000001\n",
            "0.4567118\n",
            "0.46069760000000004\n",
            "0.4646834000000001\n",
            "0.4686692\n",
            "0.47265500000000005\n",
            "0.4766408000000001\n",
            "0.4806266\n",
            "0.48461240000000005\n",
            "0.4885982\n",
            "0.492584\n",
            "0.49656980000000006\n",
            "0.5005556\n",
            "0.5045414\n",
            "0.5085272000000001\n",
            "0.512513\n",
            "0.5164988\n",
            "0.5204846000000001\n",
            "0.5244704\n",
            "0.5284562\n",
            "0.5324420000000001\n",
            "0.5364278\n",
            "0.5404136\n",
            "0.5443994000000001\n",
            "0.5483852\n",
            "0.5523710000000001\n",
            "0.5563568\n",
            "0.5603426\n",
            "0.5643284000000001\n",
            "0.5683142\n",
            "0.5723\n",
            "0.5762858000000001\n",
            "0.5802716\n",
            "0.5842574\n",
            "0.5882432000000001\n",
            "0.592229\n",
            "0.5962148\n",
            "0.6002006000000001\n",
            "0.6041864\n",
            "0.6081722\n",
            "0.6121580000000001\n",
            "0.6161438\n",
            "0.6201296000000001\n",
            "0.6241154000000001\n",
            "0.6281012\n",
            "0.6320870000000001\n",
            "0.6360728\n",
            "0.6400586\n",
            "0.6440444000000001\n",
            "0.6480302\n",
            "0.652016\n",
            "0.6560018000000001\n",
            "0.6599876\n",
            "0.6639734\n",
            "0.6679592000000001\n",
            "0.671945\n",
            "0.6759308\n",
            "0.6799166\n",
            "0.6839024\n",
            "0.6878882000000001\n",
            "0.691874\n",
            "0.6958598\n",
            "0.6998456000000001\n",
            "0.7038314\n",
            "0.7078172\n",
            "0.7118030000000001\n",
            "0.7157888\n",
            "0.7197746\n",
            "0.7237604\n",
            "0.7277462\n",
            "0.731732\n",
            "0.7357178\n",
            "0.7397036\n",
            "0.7436894000000001\n",
            "0.7476752\n",
            "0.751661\n",
            "0.7556468000000001\n",
            "0.7596326\n",
            "0.7636184\n",
            "0.7676042000000001\n",
            "0.77159\n",
            "0.7755758\n",
            "0.7795616000000001\n",
            "0.7835474\n",
            "0.7875332\n",
            "0.7915190000000001\n",
            "0.7955048\n",
            "0.7994906\n",
            "0.8034764\n",
            "0.8074622\n",
            "0.8114480000000001\n",
            "0.8154338\n",
            "0.8194196\n",
            "0.8234054000000001\n",
            "0.8273912\n",
            "0.831377\n",
            "0.8353628000000001\n",
            "0.8393486\n",
            "0.8433344\n",
            "0.8473202000000001\n",
            "0.851306\n",
            "0.8552918\n",
            "0.8592776000000001\n",
            "0.8632634\n",
            "0.8672492\n",
            "0.871235\n",
            "0.8752208\n",
            "0.8792066000000001\n",
            "0.8831924\n",
            "0.8871782\n",
            "0.8911640000000001\n",
            "0.8951498\n",
            "0.8991356\n",
            "0.9031214000000001\n",
            "0.9071072\n",
            "0.911093\n",
            "0.9150788000000001\n",
            "0.9190646\n",
            "0.9230504\n",
            "0.9270362000000001\n",
            "0.931022\n",
            "0.9350078000000001\n",
            "0.9389936\n",
            "0.9429794\n",
            "0.9469652000000001\n",
            "0.950951\n",
            "0.9549368\n",
            "0.9589226000000001\n",
            "0.9629084\n",
            "0.9668942\n",
            "0.97088\n",
            "--- y ---\n",
            "0.00035124692658939136\n",
            "0.0010035626473982678\n",
            "0.0032364895378593915\n",
            "0.007702343318781706\n",
            "0.014877816247679218\n",
            "0.028451001053740894\n",
            "0.047619047619047485\n",
            "0.0719554418184553\n",
            "0.11019117868432983\n",
            "0.15444829143459235\n",
            "0.21491294094033758\n",
            "0.2895780019067702\n",
            "0.37628581464197797\n",
            "0.482061317677758\n",
            "0.598424406643583\n",
            "0.728285413216923\n",
            "0.8662752772341787\n",
            "1.0247879973907341\n",
            "1.1729891113452806\n",
            "1.3509207687289935\n",
            "1.5317878468563249\n",
            "1.7060314115108706\n",
            "1.9010487229665387\n",
            "2.0785789552912632\n",
            "2.260750664860263\n",
            "2.44786492046767\n",
            "2.6095388629634946\n",
            "2.7836820713533155\n",
            "2.95185408199108\n",
            "3.1036178433438404\n",
            "3.2533995684680748\n",
            "3.3853680566009468\n",
            "3.49734055898436\n",
            "3.596793617341627\n",
            "3.7188770133975244\n",
            "3.8008429926238296\n",
            "3.886672688042567\n",
            "3.9488684831150196\n",
            "4.000401425058976\n",
            "4.043680064228026\n",
            "4.090822419589502\n",
            "4.1309147473531205\n",
            "4.121405991269022\n",
            "4.12958502684526\n",
            "4.1281047719404045\n",
            "4.113001154097061\n",
            "4.127728435947573\n",
            "4.085754428220255\n",
            "4.066260223794431\n",
            "4.047920116413228\n",
            "3.9848963821567276\n",
            "3.9334637964774566\n",
            "3.8893070399919876\n",
            "3.8416127251743846\n",
            "3.783556626022342\n",
            "3.723819559436013\n",
            "3.6642330272467403\n",
            "3.585503537558297\n",
            "3.5200963420141647\n",
            "3.4675096592904957\n",
            "3.3948266345526283\n",
            "3.293316272768341\n",
            "3.238195594359991\n",
            "3.1786592403030443\n",
            "3.0858296954187923\n",
            "3.01189221737164\n",
            "2.9308545335942306\n",
            "2.8643183300718063\n",
            "2.7904812082894\n",
            "2.705931055246097\n",
            "2.638541823473378\n",
            "2.5677153896331726\n",
            "2.4849465602890013\n",
            "2.427894023784478\n",
            "2.3452506397711645\n",
            "2.2783631893220706\n",
            "2.233478849917246\n",
            "2.1497315469918\n",
            "2.0808369712479675\n",
            "2.0150534397109543\n",
            "1.9529329118370022\n",
            "1.8962316222590536\n",
            "1.8415123689096111\n",
            "1.7892016659139771\n",
            "1.710973957549331\n",
            "1.6652365898941077\n",
            "1.6220833960559828\n",
            "1.5655075518089498\n",
            "1.5061217321491147\n",
            "1.4709719504239906\n",
            "1.413041296602966\n",
            "1.3600782778864837\n",
            "1.3129359225249506\n",
            "1.2699834412163409\n",
            "1.22991620251893\n",
            "1.1835516082091637\n",
            "1.1439359727030847\n",
            "1.0976466455918403\n",
            "1.0685935069496906\n",
            "1.0182397511164534\n",
            "0.9832154147222543\n",
            "0.9426714837673912\n",
            "0.9205178383260485\n",
            "0.8852426112699998\n",
            "0.8582467760550105\n",
            "0.8148677806211972\n",
            "0.775929549902145\n",
            "0.7532490340709654\n",
            "0.7190777259270339\n",
            "0.6888203121079766\n",
            "0.6560289026042568\n",
            "0.6377138842892205\n",
            "0.615510060715534\n",
            "0.5888905614933119\n",
            "0.559812333784931\n",
            "0.537934668071664\n",
            "0.5166340508806211\n",
            "0.4926739926739878\n",
            "0.4730543429173651\n",
            "0.45152792413065934\n",
            "0.4324602338300926\n",
            "0.4145466405740453\n",
            "0.3946259220231784\n",
            "0.3728987907070062\n",
            "0.360956395202977\n",
            "0.33544081489286637\n",
            "0.3199859501229422\n",
            "0.31371368357669416\n",
            "0.29183601786341223\n",
            "0.2765567765567815\n",
            "0.2638867981333709\n",
            "0.25756435345476186\n",
            "0.23766872397009808\n",
            "0.22620302072356646\n",
            "0.21395955642530773\n",
            "0.20179135932560954\n",
            "0.19002458728485938\n",
            "0.17875959656781895\n",
            "0.1685734356967217\n",
            "0.1600682422600215\n",
            "0.147197551307143\n",
            "0.1428320537909565\n",
            "0.13445230568518107\n",
            "0.126172913844149\n",
            "0.11987555823172143\n",
            "0.10705504541120874\n",
            "0.1044959606603461\n",
            "0.09478649204676509\n",
            "0.09084750865572694\n",
            "0.08271865121180338\n",
            "0.07835315369561868\n",
            "0.07200561995082472\n",
            "0.06671182698580079\n",
            "0.06405238597019355\n",
            "0.060815896432334184\n",
            "0.05446836268754175\n",
            "0.050127954237542786\n",
            "0.04621405991269088\n",
            "0.044508003412112564\n",
            "0.039540368307491205\n",
            "0.03632896783581781\n",
            "0.034121130011540636\n",
            "0.029605098098248493\n",
            "0.027196547744493437\n",
            "0.024135681669928008\n",
            "0.023408098750564273\n",
            "0.021275528124843575\n",
            "0.019694916955190735\n",
            "0.01781323699131901\n",
            "0.01620753675548225\n",
            "0.013472828541321558\n",
            "0.012770334688142782\n",
            "0.011189723518490844\n",
            "0.010110893672537407\n",
            "0.009057152892769494\n",
            "0.007551808921671861\n",
            "0.007225651061267429\n",
            "0.005544683626875508\n",
            "0.0050429023031762265\n",
            "0.004139695920517798\n",
            "0.0033870239349692013\n",
            "0.0038386271262983215\n",
            "0.00288524261126998\n",
            "0.0029103316774550174\n",
            "0.0020573034271664206\n",
            "0.0018064127653168573\n",
            "0.001078829845953153\n",
            "0.0009282954488433849\n",
            "0.0006774047869938214\n",
            "0.0007275829193637543\n",
            "0.0005519594560690397\n",
            "0.0004766922575141839\n",
            "0.00035124692658938887\n",
            "0.00032615786040443253\n",
            "0.00025089066184957046\n",
            "0.00017562346329469443\n",
            "0.00012544533092478176\n",
            "2.5089066184957047e-05\n",
            "0.0001003562647398254\n",
            "5.0178132369914095e-05\n"
          ]
        },
        {
          "data": {
            "image/png": "[encoded data removed]",
            "text/plain": [
              "<Figure size 432x288 with 1 Axes>"
            ]
          },
          "metadata": {
            "needs_background": "light"
          },
          "output_type": "display_data"
        }
      ],
      "source": [
        "\n",
        "hist = plt.hist( np.array(data)[:,1], 200,   # Change the [:,0] index for stick a,b,c, etc. \n",
        "              density=True,\n",
        "              histtype='bar',\n",
        "              facecolor='b',\n",
        "              alpha=0.5 )\n",
        "x_data, y_data = hist[1], hist[0]\n",
        "for i in range(0,len(x_data)):\n",
        "  if x_data[i] < 1/6:\n",
        "    print(x_data[i])\n",
        "print('--- y ---')  \n",
        "for i in range(0,len(y_data)):\n",
        "  if x_data[i] < 1/6: \n",
        "    print(y_data[i])\n"
      ]
    },
    {
      "cell_type": "code",
      "execution_count": 40,
      "metadata": {
        "colab": {
          "base_uri": "https://localhost:8080/"
        },
        "id": "lNaFajRmy0rJ",
        "outputId": "9f9ac62f-4879-4090-baf5-baebbb787d9d"
      },
      "outputs": [
        {
          "name": "stdout",
          "output_type": "stream",
          "text": [
            "0.20581\n",
            "0.2137145\n",
            "0.221619\n",
            "0.2295235\n",
            "0.237428\n",
            "0.2453325\n",
            "--- y ---\n",
            "0.00265671452969827\n",
            "0.014675185021190444\n",
            "0.04410146119299144\n",
            "0.09698273135555685\n",
            "0.17708899993674468\n",
            "0.2988171294832065\n"
          ]
        }
      ],
      "source": [
        "# Print over an interval\n",
        "x_data, y_data = hist[1], hist[0]\n",
        "for i in range(0,len(x_data)):\n",
        "  if x_data[i] < 1/4:\n",
        "    print(x_data[i])\n",
        "print('--- y ---')  \n",
        "for i in range(0,len(y_data)):\n",
        "  if x_data[i] < 1/4:\n",
        "    print(y_data[i])"
      ]
    },
    {
      "cell_type": "code",
      "execution_count": null,
      "metadata": {
        "colab": {
          "base_uri": "https://localhost:8080/"
        },
        "id": "_IWigrrABUIT",
        "outputId": "75336286-86f0-4dfe-e357-393cd09b6a5a"
      },
      "outputs": [
        {
          "name": "stdout",
          "output_type": "stream",
          "text": [
            "0.065473\n"
          ]
        }
      ],
      "source": [
        "N = 1000000\n",
        "tetra_count = 0\n",
        "for iteration in range(N):\n",
        "  for configuration in get7configurations( sorted(breakStick(6)) ):\n",
        "    if isOrderedTetrahedron(configuration):\n",
        "      tetra_count += 1\n",
        "      break\n",
        "print(tetra_count/N)\n",
        "  "
      ]
    },
    {
      "cell_type": "code",
      "execution_count": null,
      "metadata": {
        "id": "mxq3t43-Os50"
      },
      "outputs": [],
      "source": []
    },
    {
      "cell_type": "code",
      "execution_count": 25,
      "metadata": {
        "colab": {
          "base_uri": "https://localhost:8080/",
          "height": 1000
        },
        "id": "IMLW0mIPC6rV",
        "outputId": "63651422-1f8e-4e33-c8f6-88b9f2db7b30"
      },
      "outputs": [
        {
          "name": "stdout",
          "output_type": "stream",
          "text": [
            "Breaking a stick into 5 pieces...\n",
            "min: 0.0\n",
            "max: 0.19508\n",
            "mode: ModeResult(mode=array([0.00045]), count=array([1051]))\n"
          ]
        },
        {
          "data": {
            "image/png": "[encoded data removed]",
            "text/plain": [
              "<Figure size 1152x216 with 1 Axes>"
            ]
          },
          "metadata": {
            "needs_background": "light"
          },
          "output_type": "display_data"
        },
        {
          "name": "stdout",
          "output_type": "stream",
          "text": [
            "min: 3e-05\n",
            "max: 0.24678\n",
            "mode: ModeResult(mode=array([0.08325]), count=array([461]))\n"
          ]
        },
        {
          "data": {
            "image/png": "[encoded data removed]",
            "text/plain": [
              "<Figure size 1152x216 with 1 Axes>"
            ]
          },
          "metadata": {
            "needs_background": "light"
          },
          "output_type": "display_data"
        },
        {
          "name": "stdout",
          "output_type": "stream",
          "text": [
            "min: 0.00091\n",
            "max: 0.32974\n",
            "mode: ModeResult(mode=array([0.16615]), count=array([392]))\n"
          ]
        },
        {
          "data": {
            "image/png": "[encoded data removed]",
            "text/plain": [
              "<Figure size 1152x216 with 1 Axes>"
            ]
          },
          "metadata": {
            "needs_background": "light"
          },
          "output_type": "display_data"
        },
        {
          "name": "stdout",
          "output_type": "stream",
          "text": [
            "min: 0.00179\n",
            "max: 0.49572\n",
            "mode: ModeResult(mode=array([0.25876]), count=array([368]))\n"
          ]
        },
        {
          "data": {
            "image/png": "[encoded data removed]",
            "text/plain": [
              "<Figure size 1152x216 with 1 Axes>"
            ]
          },
          "metadata": {
            "needs_background": "light"
          },
          "output_type": "display_data"
        },
        {
          "name": "stdout",
          "output_type": "stream",
          "text": [
            "min: 0.20581\n",
            "max: 0.99626\n",
            "mode: ModeResult(mode=array([0.39998]), count=array([231]))\n"
          ]
        },
        {
          "data": {
            "image/png": "[encoded data removed]",
            "text/plain": [
              "<Figure size 1152x216 with 1 Axes>"
            ]
          },
          "metadata": {
            "needs_background": "light"
          },
          "output_type": "display_data"
        },
        {
          "data": {
            "image/png": "[encoded data removed]",
            "text/plain": [
              "<Figure size 1152x216 with 1 Axes>"
            ]
          },
          "metadata": {
            "needs_background": "light"
          },
          "output_type": "display_data"
        }
      ],
      "source": [
        "############################################33\n",
        "# Five pieces\n",
        "data = analyzePieces(5,5_000_000)"
      ]
    },
    {
      "cell_type": "code",
      "execution_count": 52,
      "metadata": {
        "colab": {
          "base_uri": "https://localhost:8080/",
          "height": 265
        },
        "id": "MFN6DVO-Ee-C",
        "outputId": "980a1713-f5fe-40c1-f3d4-a5a8dae61dcf"
      },
      "outputs": [
        {
          "data": {
            "image/png": "[encoded data removed]",
            "text/plain": [
              "<Figure size 432x288 with 1 Axes>"
            ]
          },
          "metadata": {
            "needs_background": "light"
          },
          "output_type": "display_data"
        }
      ],
      "source": [
        "hist = plt.hist( np.array(data)[:,4], 100,   # Change the [:,0] index for stick a,b,c, etc. \n",
        "              density=True,\n",
        "              histtype='bar',\n",
        "              facecolor='b',\n",
        "              alpha=0.5 )"
      ]
    },
    {
      "cell_type": "code",
      "execution_count": 55,
      "metadata": {
        "colab": {
          "base_uri": "https://localhost:8080/"
        },
        "id": "_47e0rncC9tL",
        "outputId": "45779270-91fa-4ab4-c5e4-17a864a05d19"
      },
      "outputs": [
        {
          "name": "stdout",
          "output_type": "stream",
          "text": [
            "0.506181\n",
            "0.5140855000000001\n",
            "0.5219900000000001\n",
            "0.5298945\n",
            "0.5377990000000001\n",
            "0.5457035000000001\n",
            "0.5536080000000001\n",
            "0.5615125000000001\n",
            "0.5694170000000001\n",
            "0.5773215\n",
            "0.585226\n",
            "0.5931305\n",
            "0.6010350000000001\n",
            "0.6089395000000001\n",
            "0.6168440000000002\n",
            "0.6247485000000002\n",
            "0.6326530000000001\n",
            "0.6405575000000001\n",
            "0.6484620000000001\n",
            "0.6563665000000001\n",
            "0.6642710000000001\n",
            "0.6721755\n",
            "0.68008\n",
            "0.6879845000000001\n",
            "0.6958890000000001\n",
            "0.7037935000000002\n",
            "0.7116980000000002\n",
            "0.7196025000000001\n",
            "0.7275070000000001\n",
            "0.7354115000000001\n",
            "0.7433160000000001\n",
            "0.7512205000000001\n",
            "0.759125\n",
            "0.7670295\n",
            "0.7749340000000002\n",
            "0.7828385000000002\n",
            "0.7907430000000002\n",
            "0.7986475000000002\n",
            "0.8065520000000002\n",
            "0.8144565000000001\n",
            "0.8223610000000001\n",
            "0.8302655000000001\n",
            "0.8381700000000001\n",
            "0.8460745000000001\n",
            "0.853979\n",
            "0.8618835000000002\n",
            "0.8697880000000002\n",
            "0.8776925000000002\n",
            "0.8855970000000002\n",
            "0.8935015000000002\n",
            "0.9014060000000002\n",
            "0.9093105000000001\n",
            "0.9172150000000001\n",
            "0.9251195000000001\n",
            "0.9330240000000001\n",
            "0.9409285000000001\n",
            "0.9488330000000003\n",
            "0.9567375000000002\n",
            "0.9646420000000002\n",
            "0.9725465000000002\n",
            "0.9804510000000002\n",
            "0.9883555000000002\n",
            "0.99626\n",
            "--- y ---\n",
            "2.3429944968055896\n",
            "2.2294895312796563\n",
            "2.1304067303434806\n",
            "2.0427351508634084\n",
            "1.9312290467455293\n",
            "1.8348029603390519\n",
            "1.7321272692769982\n",
            "1.6447087102283549\n",
            "1.5445885255234397\n",
            "1.4633183629578124\n",
            "1.376228730469989\n",
            "1.307736099690035\n",
            "1.2348156113606203\n",
            "1.1675880827376675\n",
            "1.090239736858754\n",
            "1.0258460370674956\n",
            "0.9654247580492148\n",
            "0.8920235309001224\n",
            "0.8330191662976805\n",
            "0.789145423492949\n",
            "0.7336327408438249\n",
            "0.6868239610348552\n",
            "0.6362704788411591\n",
            "0.5891580745145185\n",
            "0.5432095641723006\n",
            "0.4981719273831374\n",
            "0.46133215257132126\n",
            "0.4245935859320651\n",
            "0.39116958694414666\n",
            "0.3572142450502887\n",
            "0.3278385729647677\n",
            "0.29342779429439\n",
            "0.265646150926688\n",
            "0.23576443797836072\n",
            "0.21400468087798144\n",
            "0.19328230754633483\n",
            "0.17304067303434795\n",
            "0.15203997722816154\n",
            "0.13549244101461225\n",
            "0.12071604782086183\n",
            "0.10596495667025137\n",
            "0.09177051046872058\n",
            "0.07648807641217047\n",
            "0.06882155734075543\n",
            "0.05685369093554159\n",
            "0.04784616357770902\n",
            "0.040483269023973784\n",
            "0.032816749952558746\n",
            "0.026491239167562842\n",
            "0.02178505914352589\n",
            "0.01723069137832884\n",
            "0.013055854260231545\n",
            "0.010323233601113315\n",
            "0.00721108229489533\n",
            "0.0046049718514770185\n",
            "0.0035928901258775723\n",
            "0.0020494654943386727\n",
            "0.0010120817255993447\n",
            "0.0005313429059396558\n",
            "0.0001518122588399017\n",
            "2.5302043139983616e-05\n",
            "5.0604086279967944e-05\n"
          ]
        }
      ],
      "source": [
        "# Print over an interval\n",
        "x_data, y_data = hist[1], hist[0]\n",
        "for i in range(0,len(x_data)):\n",
        "  if x_data[i] > 1/2:\n",
        "    print(x_data[i])\n",
        "print('--- y ---')  \n",
        "for i in range(0,len(y_data)):\n",
        "  if x_data[i] > 1/2:\n",
        "    print(y_data[i])"
      ]
    },
    {
      "cell_type": "code",
      "execution_count": null,
      "metadata": {
        "id": "wSeZkIfuEnsE"
      },
      "outputs": [],
      "source": []
    },
    {
      "cell_type": "code",
      "execution_count": 1,
      "metadata": {
        "id": "E2uwsvL-Enzg"
      },
      "outputs": [],
      "source": [
        "################################################################################\n",
        "# Analysis of six pieces, particularly looking for the polynomial representations \n",
        "# of their probability density functions. "
      ]
    },
    {
      "cell_type": "code",
      "execution_count": 5,
      "metadata": {
        "colab": {
          "base_uri": "https://localhost:8080/",
          "height": 1000
        },
        "id": "tRWdDT3HIKaK",
        "outputId": "766fa1e6-9403-4217-ade2-8ecde9f813db"
      },
      "outputs": [
        {
          "name": "stdout",
          "output_type": "stream",
          "text": [
            "Breaking a stick into 6 pieces...\n",
            "min: 0.0\n",
            "max: 0.16022\n",
            "mode: ModeResult(mode=array([0.00021]), count=array([3133]))\n"
          ]
        },
        {
          "data": {
            "image/png": "[encoded data removed]",
            "text/plain": [
              "<Figure size 1152x216 with 1 Axes>"
            ]
          },
          "metadata": {
            "needs_background": "light"
          },
          "output_type": "display_data"
        },
        {
          "name": "stdout",
          "output_type": "stream",
          "text": [
            "min: 1e-05\n",
            "max: 0.19434\n",
            "mode: ModeResult(mode=array([0.04873]), count=array([1271]))\n"
          ]
        },
        {
          "data": {
            "image/png": "[encoded data removed]",
            "text/plain": [
              "<Figure size 1152x216 with 1 Axes>"
            ]
          },
          "metadata": {
            "needs_background": "light"
          },
          "output_type": "display_data"
        },
        {
          "name": "stdout",
          "output_type": "stream",
          "text": [
            "min: 0.00042\n",
            "max: 0.24491\n",
            "mode: ModeResult(mode=array([0.10385]), count=array([1004]))\n"
          ]
        },
        {
          "data": {
            "image/png": "[encoded data removed]",
            "text/plain": [
              "<Figure size 1152x216 with 1 Axes>"
            ]
          },
          "metadata": {
            "needs_background": "light"
          },
          "output_type": "display_data"
        },
        {
          "name": "stdout",
          "output_type": "stream",
          "text": [
            "min: 0.00323\n",
            "max: 0.32714\n",
            "mode: ModeResult(mode=array([0.17072]), count=array([923]))\n"
          ]
        },
        {
          "data": {
            "image/png": "[encoded data removed]",
            "text/plain": [
              "<Figure size 1152x216 with 1 Axes>"
            ]
          },
          "metadata": {
            "needs_background": "light"
          },
          "output_type": "display_data"
        },
        {
          "name": "stdout",
          "output_type": "stream",
          "text": [
            "min: 0.01042\n",
            "max: 0.4888\n",
            "mode: ModeResult(mode=array([0.2348]), count=array([826]))\n"
          ]
        },
        {
          "data": {
            "image/png": "[encoded data removed]",
            "text/plain": [
              "<Figure size 1152x216 with 1 Axes>"
            ]
          },
          "metadata": {
            "needs_background": "light"
          },
          "output_type": "display_data"
        },
        {
          "name": "stdout",
          "output_type": "stream",
          "text": [
            "min: 0.17454\n",
            "max: 0.9746\n",
            "mode: ModeResult(mode=array([0.34293]), count=array([479]))\n"
          ]
        },
        {
          "data": {
            "image/png": "[encoded data removed]",
            "text/plain": [
              "<Figure size 1152x216 with 1 Axes>"
            ]
          },
          "metadata": {
            "needs_background": "light"
          },
          "output_type": "display_data"
        },
        {
          "data": {
            "image/png": "[encoded data removed]",
            "text/plain": [
              "<Figure size 1152x216 with 1 Axes>"
            ]
          },
          "metadata": {
            "needs_background": "light"
          },
          "output_type": "display_data"
        }
      ],
      "source": [
        "data = analyzePieces(6,10_000_000)"
      ]
    },
    {
      "cell_type": "code",
      "execution_count": 6,
      "metadata": {
        "colab": {
          "base_uri": "https://localhost:8080/",
          "height": 265
        },
        "id": "fD3MZJAXEoKu",
        "outputId": "b45b30ce-1275-4836-d724-3951afef07ff"
      },
      "outputs": [
        {
          "data": {
            "image/png": "[encoded data removed]",
            "text/plain": [
              "<Figure size 432x288 with 1 Axes>"
            ]
          },
          "metadata": {
            "needs_background": "light"
          },
          "output_type": "display_data"
        }
      ],
      "source": [
        "########################## Piece a\n",
        "hist = plt.hist( np.array(data)[:,0], 200,  \n",
        "              density=True,\n",
        "              histtype='bar',\n",
        "              facecolor='b',\n",
        "              alpha=0.5 )\n",
        "hist_x, y_data = hist[1], hist[0]\n",
        "x_data = []\n",
        "for i in range(1,len(hist_x)):\n",
        "  x_data.append((hist_x[i-1]+hist_x[i])/2.0)"
      ]
    },
    {
      "cell_type": "code",
      "execution_count": 7,
      "metadata": {
        "colab": {
          "base_uri": "https://localhost:8080/"
        },
        "id": "t9gkZREyEh-g",
        "outputId": "39a99506-4ae1-4166-c6d8-7a51b909c956"
      },
      "outputs": [
        {
          "name": "stdout",
          "output_type": "stream",
          "text": [
            "[ 3.91858555e+04 -2.60082484e+04  6.48687322e+03 -7.20048803e+02\n",
            "  2.99956472e+01]\n"
          ]
        }
      ],
      "source": [
        "poly_a1 = np.polyfit(x_data,y_data,4)\n",
        "print(poly_a1)"
      ]
    },
    {
      "cell_type": "code",
      "execution_count": 8,
      "metadata": {
        "colab": {
          "base_uri": "https://localhost:8080/",
          "height": 265
        },
        "id": "U75e3sqaKUN2",
        "outputId": "5070bb60-c047-4128-f0eb-f2954eb2663c"
      },
      "outputs": [
        {
          "data": {
            "image/png": "[encoded data removed]",
            "text/plain": [
              "<Figure size 432x288 with 1 Axes>"
            ]
          },
          "metadata": {
            "needs_background": "light"
          },
          "output_type": "display_data"
        }
      ],
      "source": [
        "########################## Piece b\n",
        "# [0, 1/6] U [1/6, 1/5]\n",
        "hist = plt.hist( np.array(data)[:,1], 200,  \n",
        "              density=True,\n",
        "              histtype='bar',\n",
        "              facecolor='b',\n",
        "              alpha=0.5 )\n",
        "hist_x, y_data = hist[1], hist[0]\n",
        "x_data = []\n",
        "for i in range(1,len(hist_x)):\n",
        "  x_data.append((hist_x[i-1]+hist_x[i])/2.0)"
      ]
    },
    {
      "cell_type": "code",
      "execution_count": 9,
      "metadata": {
        "id": "r3IRwjKaEi4T"
      },
      "outputs": [],
      "source": [
        "x1 = [x for x in x_data if x < 1/6]\n",
        "y1 = [y_data[i] for i in range(len(x1))]\n",
        "\n",
        "x2 = [x for x in x_data if x > 1/6]\n",
        "y2 = [y_data[len(x1)+i] for i in range(len(x2))]"
      ]
    },
    {
      "cell_type": "code",
      "execution_count": 10,
      "metadata": {
        "colab": {
          "base_uri": "https://localhost:8080/",
          "height": 283
        },
        "id": "jVSsZbGDE-qm",
        "outputId": "e17c4e29-5811-49ee-bf13-3183a9e85312"
      },
      "outputs": [
        {
          "data": {
            "text/plain": [
              "[<matplotlib.lines.Line2D at 0x7fa9a10d4250>]"
            ]
          },
          "execution_count": 10,
          "metadata": {},
          "output_type": "execute_result"
        },
        {
          "data": {
            "image/png": "[encoded data removed]",
            "text/plain": [
              "<Figure size 432x288 with 1 Axes>"
            ]
          },
          "metadata": {
            "needs_background": "light"
          },
          "output_type": "display_data"
        }
      ],
      "source": [
        "plt.plot(x1,y1)\n",
        "plt.plot(x2,y2)"
      ]
    },
    {
      "cell_type": "code",
      "execution_count": 11,
      "metadata": {
        "colab": {
          "base_uri": "https://localhost:8080/"
        },
        "id": "bRzsoBpZIXGK",
        "outputId": "b796d932-e26b-47cf-c961-d73b067383eb"
      },
      "outputs": [
        {
          "name": "stdout",
          "output_type": "stream",
          "text": [
            "[-9.99693424e+04  5.43780562e+04 -9.87766624e+03  5.99332438e+02\n",
            "  5.04779811e-04]\n",
            "[102315.85229991 -81474.75424746  24335.1325356   -3231.13527883\n",
            "    160.9145347 ]\n"
          ]
        }
      ],
      "source": [
        "poly_b1 = np.polyfit(x1,y1,4)\n",
        "print(poly_b1)\n",
        "\n",
        "poly_b2 = np.polyfit(x2,y2,4)\n",
        "print(poly_b2) "
      ]
    },
    {
      "cell_type": "code",
      "execution_count": 12,
      "metadata": {
        "colab": {
          "base_uri": "https://localhost:8080/",
          "height": 265
        },
        "id": "CT2nc34FMuks",
        "outputId": "0bf59679-4b75-4a1a-eff1-bb067f05f12e"
      },
      "outputs": [
        {
          "data": {
            "image/png": "[encoded data removed]",
            "text/plain": [
              "<Figure size 432x288 with 1 Axes>"
            ]
          },
          "metadata": {
            "needs_background": "light"
          },
          "output_type": "display_data"
        }
      ],
      "source": [
        "########################## Piece c\n",
        "# [0, 1/6] U [1/6, 1/5] U [1/5, 1/4]\n",
        "hist = plt.hist( np.array(data)[:,2], 200,  \n",
        "              density=True,\n",
        "              histtype='bar',\n",
        "              facecolor='b',\n",
        "              alpha=0.5 )\n",
        "hist_x, y_data = hist[1], hist[0]\n",
        "x_data = []\n",
        "for i in range(1,len(hist_x)):\n",
        "  x_data.append((hist_x[i-1]+hist_x[i])/2.0)"
      ]
    },
    {
      "cell_type": "code",
      "execution_count": 13,
      "metadata": {
        "id": "yKMxVj2ZM8En"
      },
      "outputs": [],
      "source": [
        "x1 = [x for x in x_data if x < 1/6]\n",
        "y1 = [y_data[i] for i in range(len(x1))]\n",
        "\n",
        "x2 = [x for x in x_data if x > 1/6 and x < 1/5]\n",
        "y2 = [y_data[len(x1)+i] for i in range(len(x2))]\n",
        "\n",
        "x3 = [x for x in x_data if x > 1/5]\n",
        "y3 = [y_data[len(x1)+len(x2)+i] for i in range(len(x3))]"
      ]
    },
    {
      "cell_type": "code",
      "execution_count": 14,
      "metadata": {
        "colab": {
          "base_uri": "https://localhost:8080/",
          "height": 283
        },
        "id": "OuCIa4TRNUGn",
        "outputId": "f4cb7c17-b896-42da-8a64-5e27f5bd02d3"
      },
      "outputs": [
        {
          "data": {
            "text/plain": [
              "[<matplotlib.lines.Line2D at 0x7fa99ff1b250>]"
            ]
          },
          "execution_count": 14,
          "metadata": {},
          "output_type": "execute_result"
        },
        {
          "data": {
            "image/png": "[encoded data removed]",
            "text/plain": [
              "<Figure size 432x288 with 1 Axes>"
            ]
          },
          "metadata": {
            "needs_background": "light"
          },
          "output_type": "display_data"
        }
      ],
      "source": [
        "plt.plot(x1,y1)\n",
        "plt.plot(x2,y2)\n",
        "plt.plot(x3,y3)"
      ]
    },
    {
      "cell_type": "code",
      "execution_count": 15,
      "metadata": {
        "colab": {
          "base_uri": "https://localhost:8080/"
        },
        "id": "eFVbZlYbNXT4",
        "outputId": "fe85cea2-b97a-4781-d870-c798c7507fe8"
      },
      "outputs": [
        {
          "name": "stdout",
          "output_type": "stream",
          "text": [
            "[ 9.14793273e+04 -3.62918732e+04  3.63037719e+03 -1.07206925e+00\n",
            "  9.74903100e-03]\n",
            "[-850031.43141369  629638.43457753 -173348.67307905   20939.99122417\n",
            "    -930.63719641]\n",
            "[ 75044.95731832 -75285.54547979  28312.47622789  -4730.64402352\n",
            "    296.32310971]\n"
          ]
        }
      ],
      "source": [
        "poly_c1 = np.polyfit(x1,y1,4)\n",
        "print(poly_c1)\n",
        "\n",
        "poly_c2 = np.polyfit(x2,y2,4)\n",
        "print(poly_c2) \n",
        "\n",
        "poly_c3 = np.polyfit(x3,y3,4)\n",
        "print(poly_c3) "
      ]
    },
    {
      "cell_type": "code",
      "execution_count": 16,
      "metadata": {
        "colab": {
          "base_uri": "https://localhost:8080/",
          "height": 265
        },
        "id": "S27ozA9CNiou",
        "outputId": "0de8d28c-f462-4560-9682-56162bf32c9e"
      },
      "outputs": [
        {
          "data": {
            "image/png": "[encoded data removed]",
            "text/plain": [
              "<Figure size 432x288 with 1 Axes>"
            ]
          },
          "metadata": {
            "needs_background": "light"
          },
          "output_type": "display_data"
        }
      ],
      "source": [
        "########################## Piece d\n",
        "# [0, 1/6] U [1/6, 1/5] U [1/5, 1/4] U [1/4, 1/3]\n",
        "hist = plt.hist( np.array(data)[:,3], 200,  \n",
        "              density=True,\n",
        "              histtype='bar',\n",
        "              facecolor='b',\n",
        "              alpha=0.5 )\n",
        "hist_x, y_data = hist[1], hist[0]\n",
        "x_data = []\n",
        "for i in range(1,len(hist_x)):\n",
        "  x_data.append((hist_x[i-1]+hist_x[i])/2.0)"
      ]
    },
    {
      "cell_type": "code",
      "execution_count": 17,
      "metadata": {
        "colab": {
          "base_uri": "https://localhost:8080/",
          "height": 408
        },
        "id": "RvrOpuddOdrK",
        "outputId": "8039ad88-85d5-487f-ad3b-aef7f9340638"
      },
      "outputs": [
        {
          "name": "stdout",
          "output_type": "stream",
          "text": [
            "[-3.24637446e+04  7.22230033e+03 -1.90555359e+00  2.38260454e-02\n",
            "  5.34642325e-04]\n",
            "[-1440348.50177464  1050833.54217679  -288957.79214504    35431.86600686\n",
            "    -1623.98208232]\n",
            "[-256562.82107732  242369.86192652  -84796.9857365    12929.47575833\n",
            "    -716.22982595]\n",
            "[ 25052.35982896 -33151.71171047  16471.71636102  -3641.45440824\n",
            "    302.18437781]\n"
          ]
        },
        {
          "data": {
            "image/png": "[encoded data removed]",
            "text/plain": [
              "<Figure size 432x288 with 1 Axes>"
            ]
          },
          "metadata": {
            "needs_background": "light"
          },
          "output_type": "display_data"
        }
      ],
      "source": [
        "x1 = [x for x in x_data if x < 1/6]\n",
        "y1 = [y_data[i] for i in range(len(x1))]\n",
        "\n",
        "x2 = [x for x in x_data if x > 1/6 and x < 1/5]\n",
        "y2 = [y_data[len(x1)+i] for i in range(len(x2))]\n",
        "\n",
        "x3 = [x for x in x_data if x > 1/5 and x < 1/4]\n",
        "y3 = [y_data[len(x1)+len(x2)+i] for i in range(len(x3))]\n",
        "\n",
        "x4 = [x for x in x_data if x > 1/4]\n",
        "y4 = [y_data[len(x1)+len(x2)+len(x3)+i] for i in range(len(x4))]\n",
        "\n",
        "plt.plot(x1,y1)\n",
        "plt.plot(x2,y2)\n",
        "plt.plot(x3,y3)\n",
        "plt.plot(x4,y4)\n",
        "\n",
        "poly_d1 = np.polyfit(x1,y1,4)\n",
        "print(poly_d1)\n",
        "\n",
        "poly_d2 = np.polyfit(x2,y2,4)\n",
        "print(poly_d2) \n",
        "\n",
        "poly_d3 = np.polyfit(x3,y3,4)\n",
        "print(poly_d3) \n",
        "\n",
        "poly_d4 = np.polyfit(x4,y4,4)\n",
        "print(poly_d4)"
      ]
    },
    {
      "cell_type": "code",
      "execution_count": 18,
      "metadata": {
        "colab": {
          "base_uri": "https://localhost:8080/",
          "height": 265
        },
        "id": "T_BR8q0NOq7f",
        "outputId": "78c799af-ec8e-4073-cbe8-565b6a600607"
      },
      "outputs": [
        {
          "data": {
            "image/png": "[encoded data removed]",
            "text/plain": [
              "<Figure size 432x288 with 1 Axes>"
            ]
          },
          "metadata": {
            "needs_background": "light"
          },
          "output_type": "display_data"
        }
      ],
      "source": [
        "########################## Piece e\n",
        "# [0, 1/6] U [1/6, 1/5] U [1/5, 1/4] U [1/4, 1/3] U [1/3, 1/2]\n",
        "hist = plt.hist( np.array(data)[:,4], 200,  \n",
        "              density=True,\n",
        "              histtype='bar',\n",
        "              facecolor='b',\n",
        "              alpha=0.5 )\n",
        "hist_x, y_data = hist[1], hist[0]\n",
        "x_data = []\n",
        "for i in range(1,len(hist_x)):\n",
        "  x_data.append((hist_x[i-1]+hist_x[i])/2.0)"
      ]
    },
    {
      "cell_type": "code",
      "execution_count": 19,
      "metadata": {
        "colab": {
          "base_uri": "https://localhost:8080/",
          "height": 444
        },
        "id": "xFvT6c4BP_zP",
        "outputId": "8f23a95e-9a1e-48d7-88ae-f22bc5d28caf"
      },
      "outputs": [
        {
          "name": "stdout",
          "output_type": "stream",
          "text": [
            "[ 3.46303228e+03  3.35326847e+01 -2.14295222e+00  3.48082423e-02\n",
            " -2.82306367e-05]\n",
            "[ 493794.19224    -360491.28850513   99034.92721823  -12051.14491699\n",
            "     548.26633592]\n",
            "[ 289136.21057897 -264865.58692925   89420.46667678  -13153.20327363\n",
            "     715.64837871]\n",
            "[-67042.15942344  84245.58034466 -39350.07636993   8035.18040403\n",
            "   -596.85809956]\n",
            "[ 2551.8251505  -5064.715429    3772.42137783 -1249.70849689\n",
            "   155.35001623]\n"
          ]
        },
        {
          "data": {
            "image/png": "[encoded data removed]",
            "text/plain": [
              "<Figure size 432x288 with 1 Axes>"
            ]
          },
          "metadata": {
            "needs_background": "light"
          },
          "output_type": "display_data"
        }
      ],
      "source": [
        "x1 = [x for x in x_data if x < 1/6]\n",
        "y1 = [y_data[i] for i in range(len(x1))]\n",
        "\n",
        "x2 = [x for x in x_data if x > 1/6 and x < 1/5]\n",
        "y2 = [y_data[len(x1)+i] for i in range(len(x2))]\n",
        "\n",
        "x3 = [x for x in x_data if x > 1/5 and x < 1/4]\n",
        "y3 = [y_data[len(x1)+len(x2)+i] for i in range(len(x3))]\n",
        "\n",
        "x4 = [x for x in x_data if x > 1/4 and x < 1/3]\n",
        "y4 = [y_data[len(x1)+len(x2)+len(x3)+i] for i in range(len(x4))]\n",
        "\n",
        "x5 = [x for x in x_data if x > 1/3]\n",
        "y5 = [y_data[len(x1)+len(x2)+len(x3)+len(x4)+i] for i in range(len(x5))]\n",
        "\n",
        "plt.plot(x1,y1)\n",
        "plt.plot(x2,y2)\n",
        "plt.plot(x3,y3)\n",
        "plt.plot(x4,y4)\n",
        "plt.plot(x5,y5)\n",
        "\n",
        "poly_e1 = np.polyfit(x1,y1,4)\n",
        "print(poly_e1)\n",
        "\n",
        "poly_e2 = np.polyfit(x2,y2,4)\n",
        "print(poly_e2) \n",
        "\n",
        "poly_e3 = np.polyfit(x3,y3,4)\n",
        "print(poly_e3) \n",
        "\n",
        "poly_e4 = np.polyfit(x4,y4,4)\n",
        "print(poly_e4)\n",
        "\n",
        "poly_e5 = np.polyfit(x5,y5,4)\n",
        "print(poly_e5)"
      ]
    },
    {
      "cell_type": "code",
      "execution_count": 20,
      "metadata": {
        "colab": {
          "base_uri": "https://localhost:8080/",
          "height": 265
        },
        "id": "SU_7CIygQP74",
        "outputId": "1cf623cc-f4a0-4cae-b37c-c7c7e12405d3"
      },
      "outputs": [
        {
          "data": {
            "image/png": "[encoded data removed]",
            "text/plain": [
              "<Figure size 432x288 with 1 Axes>"
            ]
          },
          "metadata": {
            "needs_background": "light"
          },
          "output_type": "display_data"
        }
      ],
      "source": [
        "########################## Piece f\n",
        "# [0, 1/6] U [1/6, 1/5] U [1/5, 1/4] U [1/4, 1/3] U [1/3, 1/2] U [1/2, 1]\n",
        "hist = plt.hist( np.array(data)[:,5], 200,  \n",
        "              density=True,\n",
        "              histtype='bar',\n",
        "              facecolor='b',\n",
        "              alpha=0.5 )\n",
        "hist_x, y_data = hist[1], hist[0]\n",
        "x_data = []\n",
        "for i in range(1,len(hist_x)):\n",
        "  x_data.append((hist_x[i-1]+hist_x[i])/2.0)"
      ]
    },
    {
      "cell_type": "code",
      "execution_count": 23,
      "metadata": {
        "id": "AgxiRTRkotlH"
      },
      "outputs": [],
      "source": []
    },
    {
      "cell_type": "code",
      "execution_count": 25,
      "metadata": {
        "colab": {
          "base_uri": "https://localhost:8080/",
          "height": 426
        },
        "id": "rlS8rDenQsED",
        "outputId": "78332fce-9bf6-4edb-fa80-fbd0565244df"
      },
      "outputs": [
        {
          "name": "stdout",
          "output_type": "stream",
          "text": [
            "[-296926.39628227  222112.50403015  -62178.71167472    7721.9347225\n",
            "    -359.01559171]\n",
            "[-51216.67871363  45372.88195798 -14631.56357547   2051.96650457\n",
            "   -106.11656491]\n",
            "[ 30477.91970366 -37446.21073533  16911.67979851  -3296.62114815\n",
            "    234.50320778]\n",
            "[-2074.85086559  4162.80273519 -3082.68739087   982.98418354\n",
            "  -109.61933073]\n",
            "[  30.17545336 -120.50934014  180.53823637 -120.24372556   30.03955774]\n"
          ]
        },
        {
          "data": {
            "image/png": "[encoded data removed]",
            "text/plain": [
              "<Figure size 432x288 with 1 Axes>"
            ]
          },
          "metadata": {
            "needs_background": "light"
          },
          "output_type": "display_data"
        }
      ],
      "source": [
        "# x1 = [x for x in x_data if x < 1/6]\n",
        "# y1 = [y_data[i] for i in range(len(x1))]\n",
        "x1 = [] \n",
        "y1 = []\n",
        "\n",
        "x2 = [x for x in x_data if x < 1/5]\n",
        "y2 = [y_data[len(x1)+i] for i in range(len(x2))]\n",
        "\n",
        "x3 = [x for x in x_data if x > 1/5 and x < 1/4]\n",
        "y3 = [y_data[len(x1)+len(x2)+i] for i in range(len(x3))]\n",
        "\n",
        "x4 = [x for x in x_data if x > 1/4 and x < 1/3]\n",
        "y4 = [y_data[len(x1)+len(x2)+len(x3)+i] for i in range(len(x4))]\n",
        "\n",
        "x5 = [x for x in x_data if x > 1/3 and x < 1/2]\n",
        "y5 = [y_data[len(x1)+len(x2)+len(x3)+len(x4)+i] for i in range(len(x5))]\n",
        "\n",
        "x6 = [x for x in x_data if x > 1/2]\n",
        "y6 = [y_data[len(x1)+len(x2)+len(x3)+len(x4)+len(x5)+i] for i in range(len(x6))]\n",
        "\n",
        "#plt.plot(x1,y1)\n",
        "plt.plot(x2,y2)\n",
        "plt.plot(x3,y3)\n",
        "plt.plot(x4,y4)\n",
        "plt.plot(x5,y5)\n",
        "plt.plot(x6,y6)\n",
        "\n",
        "#poly_f1 = np.polyfit(x1,y1,4)\n",
        "#print(poly_f1)\n",
        "\n",
        "poly_f2 = np.polyfit(x2,y2,4)\n",
        "print(poly_f2) \n",
        "\n",
        "poly_f3 = np.polyfit(x3,y3,4)\n",
        "print(poly_f3) \n",
        "\n",
        "poly_f4 = np.polyfit(x4,y4,4)\n",
        "print(poly_f4)\n",
        "\n",
        "poly_f5 = np.polyfit(x5,y5,4)\n",
        "print(poly_f5)\n",
        "\n",
        "poly_f6 = np.polyfit(x6,y6,4)\n",
        "print(poly_f6)"
      ]
    },
    {
      "cell_type": "code",
      "execution_count": 79,
      "metadata": {
        "id": "kCMGtYNYRBD2"
      },
      "outputs": [],
      "source": [
        "###########################################################\n"
      ]
    },
    {
      "cell_type": "code",
      "execution_count": 6,
      "metadata": {
        "id": "-puChmtSSY13"
      },
      "outputs": [
        {
          "name": "stdout",
          "output_type": "stream",
          "text": [
            "Breaking a stick into 4 pieces...\n",
            "min: 0.0\n",
            "max: 0.2485\n",
            "mode: ModeResult(mode=array([0.00313]), count=array([150]))\n"
          ]
        },
        {
          "data": {
            "image/png": "[encoded data removed]",
            "text/plain": [
              "<Figure size 1152x216 with 1 Axes>"
            ]
          },
          "metadata": {
            "needs_background": "light"
          },
          "output_type": "display_data"
        },
        {
          "name": "stdout",
          "output_type": "stream",
          "text": [
            "min: 0.00021\n",
            "max: 0.33226\n",
            "mode: ModeResult(mode=array([0.12598]), count=array([80]))\n"
          ]
        },
        {
          "data": {
            "image/png": "[encoded data removed]",
            "text/plain": [
              "<Figure size 1152x216 with 1 Axes>"
            ]
          },
          "metadata": {
            "needs_background": "light"
          },
          "output_type": "display_data"
        },
        {
          "name": "stdout",
          "output_type": "stream",
          "text": [
            "min: 0.00214\n",
            "max: 0.49674\n",
            "mode: ModeResult(mode=array([0.27574]), count=array([78]))\n"
          ]
        },
        {
          "data": {
            "image/png": "[encoded data removed]",
            "text/plain": [
              "<Figure size 1152x216 with 1 Axes>"
            ]
          },
          "metadata": {
            "needs_background": "light"
          },
          "output_type": "display_data"
        },
        {
          "name": "stdout",
          "output_type": "stream",
          "text": [
            "min: 0.25204\n",
            "max: 0.99521\n",
            "mode: ModeResult(mode=array([0.41889]), count=array([53]))\n"
          ]
        },
        {
          "data": {
            "image/png": "[encoded data removed]",
            "text/plain": [
              "<Figure size 1152x216 with 1 Axes>"
            ]
          },
          "metadata": {
            "needs_background": "light"
          },
          "output_type": "display_data"
        },
        {
          "data": {
            "image/png": "[encoded data removed]",
            "text/plain": [
              "<Figure size 1152x216 with 1 Axes>"
            ]
          },
          "metadata": {
            "needs_background": "light"
          },
          "output_type": "display_data"
        }
      ],
      "source": [
        "################################################################################\n",
        "# Analysis of four pieces, particularly looking for the polynomial representations \n",
        "# of their probability density functions. \n",
        "data = analyzePieces(4,1_000_000)"
      ]
    },
    {
      "cell_type": "code",
      "execution_count": 31,
      "metadata": {},
      "outputs": [
        {
          "name": "stdout",
          "output_type": "stream",
          "text": [
            "Breaking a stick into 4 pieces...\n",
            "min: 0.0\n",
            "max: 0.24938\n",
            "mode: ModeResult(mode=array([0.00048]), count=array([6234]))\n"
          ]
        },
        {
          "data": {
            "image/png": "[encoded data removed]",
            "text/plain": [
              "<Figure size 1152x216 with 1 Axes>"
            ]
          },
          "metadata": {
            "needs_background": "light"
          },
          "output_type": "display_data"
        },
        {
          "name": "stdout",
          "output_type": "stream",
          "text": [
            "min: 1e-05\n",
            "max: 0.33302\n",
            "mode: ModeResult(mode=array([0.1432]), count=array([2749]))\n"
          ]
        },
        {
          "data": {
            "image/png": "[encoded data removed]",
            "text/plain": [
              "<Figure size 1152x216 with 1 Axes>"
            ]
          },
          "metadata": {
            "needs_background": "light"
          },
          "output_type": "display_data"
        },
        {
          "name": "stdout",
          "output_type": "stream",
          "text": [
            "min: 0.00151\n",
            "max: 0.49938\n",
            "mode: ModeResult(mode=array([0.28918]), count=array([2739]))\n"
          ]
        },
        {
          "data": {
            "image/png": "[encoded data removed]",
            "text/plain": [
              "<Figure size 1152x216 with 1 Axes>"
            ]
          },
          "metadata": {
            "needs_background": "light"
          },
          "output_type": "display_data"
        },
        {
          "name": "stdout",
          "output_type": "stream",
          "text": [
            "min: 0.25075\n",
            "max: 0.99708\n",
            "mode: ModeResult(mode=array([0.45315]), count=array([1780]))\n"
          ]
        },
        {
          "data": {
            "image/png": "[encoded data removed]",
            "text/plain": [
              "<Figure size 1152x216 with 1 Axes>"
            ]
          },
          "metadata": {
            "needs_background": "light"
          },
          "output_type": "display_data"
        },
        {
          "data": {
            "image/png": "[encoded data removed]",
            "text/plain": [
              "<Figure size 1152x216 with 1 Axes>"
            ]
          },
          "metadata": {
            "needs_background": "light"
          },
          "output_type": "display_data"
        }
      ],
      "source": [
        "##############################################################################\n",
        "# Analyze n pieces \n",
        "num_pieces = 4 \n",
        "data = analyzePieces( num_pieces, 50_000_000 );\n"
      ]
    },
    {
      "cell_type": "code",
      "execution_count": 32,
      "metadata": {},
      "outputs": [
        {
          "name": "stdout",
          "output_type": "stream",
          "text": [
            "[ 0 ] ( 0.0 ,  0.25 )\n",
            "[192.03565952 -96.011481    12.00071728]\n",
            "[ 1 ] ( 0.0 ,  0.25 )\n",
            "[-2.52061021e+02  7.20103107e+01 -3.64166407e-05]\n",
            "[ 1 ] ( 0.25 ,  0.3333333333333333 )\n",
            "[ 325.62210274 -216.96448146   36.14232735]\n",
            "[ 2 ] ( 0.0 ,  0.25 )\n",
            "[ 7.21403567e+01 -3.27504713e-02  1.07432217e-03]\n",
            "[ 2 ] ( 0.25 ,  0.3333333333333333 )\n",
            "[-501.21039657  286.41079642  -35.77539023]\n",
            "[ 2 ] ( 0.3333333333333333 ,  0.5 )\n",
            "[ 143.96335874 -143.96726047   35.99297384]\n",
            "[ 3 ] ( 0.25 ,  0.3333333333333333 )\n",
            "[192.09134803 -96.05661475  12.0087934 ]\n",
            "[ 3 ] ( 0.3333333333333333 ,  0.5 )\n",
            "[-131.73365812  119.79110331  -23.9596101 ]\n",
            "[ 3 ] ( 0.5 ,  1.0 )\n",
            "[ 11.99770256 -23.99559946  11.99794902]\n"
          ]
        },
        {
          "data": {
            "image/png": "[encoded data removed]",
            "text/plain": [
              "<Figure size 432x288 with 1 Axes>"
            ]
          },
          "metadata": {
            "needs_background": "light"
          },
          "output_type": "display_data"
        }
      ],
      "source": [
        "for piece_index in range(num_pieces):\n",
        "  hist = plt.hist( np.array(data)[:,piece_index], 200,  \n",
        "                density=True,\n",
        "                histtype='bar',\n",
        "                facecolor='b',\n",
        "                alpha=0.5 );   # Supress histograms \n",
        "  hist_x, y_data = hist[1], hist[0]\n",
        "  x_data = []\n",
        "  for i in range(1,len(hist_x)):\n",
        "    x_data.append((hist_x[i-1]+hist_x[i])/2.0)\n",
        "\n",
        "  # Split into intervals   \n",
        "  intervals = [[0.0,1.0/num_pieces]] \n",
        "  if piece_index == num_pieces - 1:\n",
        "    intervals = [] \n",
        "  for i in range(piece_index): \n",
        "    intervals.append([1.0/(num_pieces-i),1.0/(num_pieces-i-1)])\n",
        "\n",
        "  for [x1,x2] in intervals:\n",
        "    # Get the x and y data on the interval \n",
        "    x_temp = [] \n",
        "    y_temp = [] \n",
        "    for i in range(len(x_data)):\n",
        "      if x1<x_data[i] and x_data[i] < x2:\n",
        "        x_temp.append(x_data[i])\n",
        "        y_temp.append(y_data[i]) \n",
        "  \n",
        "    plt.plot(x_temp, y_temp) \n",
        "    poly = np.polyfit(x_temp,y_temp,num_pieces-2)\n",
        "    print('[',piece_index,']', '(',x1,', ',x2,')')\n",
        "    print(poly) "
      ]
    },
    {
      "cell_type": "code",
      "execution_count": null,
      "metadata": {},
      "outputs": [],
      "source": []
    }
  ],
  "metadata": {
    "colab": {
      "collapsed_sections": [],
      "name": "StickExplorations.ipynb",
      "provenance": []
    },
    "kernelspec": {
      "display_name": "Python 3",
      "name": "python3"
    },
    "language_info": {
      "codemirror_mode": {
        "name": "ipython",
        "version": 3
      },
      "file_extension": ".py",
      "mimetype": "text/x-python",
      "name": "python",
      "nbconvert_exporter": "python",
      "pygments_lexer": "ipython3",
      "version": "3.8.10"
    }
  },
  "nbformat": 4,
  "nbformat_minor": 0
}
